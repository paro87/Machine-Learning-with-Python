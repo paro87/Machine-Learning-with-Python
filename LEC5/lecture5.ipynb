{
 "cells": [
  {
   "cell_type": "code",
   "execution_count": 183,
   "metadata": {
    "slideshow": {
     "slide_type": "-"
    }
   },
   "outputs": [
    {
     "data": {
      "text/html": [
       "\n",
       "<style>\n",
       ".output_png {\n",
       "    display: table-cell;\n",
       "    text-align: center;\n",
       "    margin:auto;\n",
       "}\n",
       ".prompt \n",
       "    display:none;\n",
       "}\n",
       "\n",
       ".dataframe th {\n",
       "    font-size: 18px;\n",
       "}\n",
       ".dataframe td {\n",
       "    font-size: 16px;\n",
       "}\n"
      ],
      "text/plain": [
       "<IPython.core.display.HTML object>"
      ]
     },
     "execution_count": 183,
     "metadata": {},
     "output_type": "execute_result"
    }
   ],
   "source": [
    "from IPython.core.display import HTML\n",
    "HTML(\"\"\"\n",
    "<style>\n",
    ".output_png {\n",
    "    display: table-cell;\n",
    "    text-align: center;\n",
    "    margin:auto;\n",
    "}\n",
    ".prompt \n",
    "    display:none;\n",
    "}\n",
    "\n",
    ".dataframe th {\n",
    "    font-size: 18px;\n",
    "}\n",
    ".dataframe td {\n",
    "    font-size: 16px;\n",
    "}\n",
    "\"\"\")"
   ]
  },
  {
   "cell_type": "markdown",
   "metadata": {
    "slideshow": {
     "slide_type": "slide"
    }
   },
   "source": [
    "# $$\\textbf{Python Programming for Machine Learning} $$ \n",
    "\n",
    "#### $$\\text{SoSe 2021}$$\n",
    "\n",
    "## $$\\text{Lecture 5: Numerical instability, Pandas, Google Colab} $$\n",
    "\n",
    "#### $$\\text{Sergej Dogadov} \\quad \\text{Philine Thalia Görzig} \\quad \\text{Panagiotis Tomer Karagiannis}$$\n",
    "\n",
    "<br><br>\n",
    "<center>\n",
    "<img src='./images/pyt.png' width=450>"
   ]
  },
  {
   "cell_type": "markdown",
   "metadata": {
    "slideshow": {
     "slide_type": "slide"
    }
   },
   "source": [
    "## $$\\textbf{Rounding effect}$$\n",
    "<hr>\n",
    "<br>"
   ]
  },
  {
   "cell_type": "code",
   "execution_count": 3,
   "metadata": {
    "slideshow": {
     "slide_type": "fragment"
    }
   },
   "outputs": [],
   "source": [
    "# First import the required packages\n",
    "import numpy as np\n",
    "\n",
    "import matplotlib.pyplot as plt\n",
    "%matplotlib inline"
   ]
  },
  {
   "cell_type": "markdown",
   "metadata": {
    "slideshow": {
     "slide_type": "slide"
    }
   },
   "source": [
    "* $\\text{Let's start with a weird experiment:}$"
   ]
  },
  {
   "cell_type": "code",
   "execution_count": 16,
   "metadata": {
    "slideshow": {
     "slide_type": "fragment"
    }
   },
   "outputs": [
    {
     "data": {
      "text/plain": [
       "array([   1.,   10.,  100., 1000.], dtype=float32)"
      ]
     },
     "execution_count": 16,
     "metadata": {},
     "output_type": "execute_result"
    }
   ],
   "source": [
    "a = (10**np.arange(4)).astype('float32')\n",
    "a"
   ]
  },
  {
   "cell_type": "code",
   "execution_count": 17,
   "metadata": {
    "slideshow": {
     "slide_type": "fragment"
    }
   },
   "outputs": [
    {
     "data": {
      "text/plain": [
       "array([   0.,    0.,  128., 1024.], dtype=float32)"
      ]
     },
     "execution_count": 17,
     "metadata": {},
     "output_type": "execute_result"
    }
   ],
   "source": [
    "# Add and subtract the same (huge) number\n",
    "\n",
    "huge_number = 1e9  # (10^9) \n",
    "assert huge_number == 10**9\n",
    "\n",
    "(a + huge_number) - huge_number # as you can see the result is not equal a"
   ]
  },
  {
   "cell_type": "markdown",
   "metadata": {
    "slideshow": {
     "slide_type": "slide"
    }
   },
   "source": [
    "* $ \\text{Now, let's repeat the experiment with higher precision (float64):} $"
   ]
  },
  {
   "cell_type": "code",
   "execution_count": 18,
   "metadata": {
    "slideshow": {
     "slide_type": "fragment"
    }
   },
   "outputs": [
    {
     "data": {
      "text/plain": [
       "array([   1.,   10.,  100., 1000.])"
      ]
     },
     "execution_count": 18,
     "metadata": {},
     "output_type": "execute_result"
    }
   ],
   "source": [
    "a = (10**np.arange(4)).astype('float64')\n",
    "a"
   ]
  },
  {
   "cell_type": "code",
   "execution_count": 19,
   "metadata": {
    "slideshow": {
     "slide_type": "fragment"
    }
   },
   "outputs": [
    {
     "data": {
      "text/plain": [
       "array([   1.,   10.,  100., 1000.])"
      ]
     },
     "execution_count": 19,
     "metadata": {},
     "output_type": "execute_result"
    }
   ],
   "source": [
    "huge_number = 1e12\n",
    "\n",
    "# it seems to work now\n",
    "(a + huge_number) - huge_number # ok for now it works..."
   ]
  },
  {
   "cell_type": "markdown",
   "metadata": {
    "slideshow": {
     "slide_type": "fragment"
    }
   },
   "source": [
    "* $\\text{We can also reach the limits of double precision floats (float64):}$"
   ]
  },
  {
   "cell_type": "code",
   "execution_count": 20,
   "metadata": {
    "slideshow": {
     "slide_type": "fragment"
    }
   },
   "outputs": [
    {
     "name": "stdout",
     "output_type": "stream",
     "text": [
      "[   0.    0.  128. 1024.]\n"
     ]
    }
   ],
   "source": [
    "huge_number = 1e18 \n",
    "\n",
    "print((a + huge_number) - huge_number) # same artefacts appear"
   ]
  },
  {
   "cell_type": "markdown",
   "metadata": {
    "slideshow": {
     "slide_type": "slide"
    }
   },
   "source": [
    "## $$\\textbf{Understanding of the rounding effect}$$\n",
    "<hr>\n",
    "<br>"
   ]
  },
  {
   "cell_type": "code",
   "execution_count": 21,
   "metadata": {
    "slideshow": {
     "slide_type": "fragment"
    }
   },
   "outputs": [],
   "source": [
    "# We'll plot all numbers before and after application of the addition and substraction of the huge numbers:\n",
    "a = np.arange(500).astype('float32')\n",
    "\n",
    "huge_numbers = [1e7, 1e8, 1e9, 1e10]"
   ]
  },
  {
   "cell_type": "code",
   "execution_count": 36,
   "metadata": {
    "slideshow": {
     "slide_type": "fragment"
    }
   },
   "outputs": [],
   "source": [
    "def rounding_effect(huge_numbers):\n",
    "    \n",
    "    f, axis = plt.subplots(1, len(huge_numbers), sharex=True, sharey=True, figsize = (26,8))\n",
    "    \n",
    "    errors = []\n",
    "    for i,num in enumerate(huge_numbers):\n",
    "        \n",
    "        ax = axis[i]\n",
    "        b = (a + num) - num\n",
    "        ax.plot(a, b, label='rounding')\n",
    "        errors += [np.abs(a-b).sum()]\n",
    "        ax.plot(a, a, label=f'truth')\n",
    "        ax.legend(fontsize=20)\n",
    "\n",
    "    ttl = axis[1].set_title('Rounding effect', fontsize=35, pad=20)\n",
    "    axis[0].set_ylabel('after', rotation=0, labelpad=35, fontsize=20) # pad to get horizontal dist\n",
    "    \n",
    "    xlab = axis[1].set_xlabel('before', fontsize=20, labelpad=10) # pad to get vert dist\n",
    "    \n",
    "    ttl.set_position([1.1,1.0])\n",
    "    xlab.set_position([1, 0]) # shifting to right (centering)\n",
    "    \n",
    "    return errors"
   ]
  },
  {
   "cell_type": "code",
   "execution_count": 37,
   "metadata": {
    "slideshow": {
     "slide_type": "slide"
    }
   },
   "outputs": [
    {
     "data": {
      "text/plain": [
       "['0 -> Error: 0.0',\n",
       " '1 -> Error: 998.0',\n",
       " '2 -> Error: 8114.0',\n",
       " '3 -> Error: 124750.0']"
      ]
     },
     "execution_count": 37,
     "metadata": {},
     "output_type": "execute_result"
    },
    {
     "data": {
      "image/png": "[encoded data removed]",
      "text/plain": [
       "<Figure size 1872x576 with 4 Axes>"
      ]
     },
     "metadata": {
      "needs_background": "light"
     },
     "output_type": "display_data"
    }
   ],
   "source": [
    "[ f'{num} -> Error: {err}' for num, err in zip(range(len(huge_numbers)), rounding_effect(huge_numbers))]"
   ]
  },
  {
   "cell_type": "markdown",
   "metadata": {
    "slideshow": {
     "slide_type": "slide"
    }
   },
   "source": [
    "## $$\\textbf{Insights about the rounding effect}$$\n",
    "<hr>\n",
    "<br>"
   ]
  },
  {
   "cell_type": "markdown",
   "metadata": {
    "slideshow": {
     "slide_type": "fragment"
    }
   },
   "source": [
    "* The `float32` and `float64` number representations have a certain budget of bits to represent real numbers.\n",
    "\n",
    "$\\quad\\quad\\quad$Therefore, they allocate precision where it is important (e.g. for small numbers).\n",
    "<br>\n",
    "\n"
   ]
  },
  {
   "cell_type": "markdown",
   "metadata": {
    "slideshow": {
     "slide_type": "fragment"
    }
   },
   "source": [
    "* The smaller the precision, the less memory is used and therefore the more efficient (computationally), \n",
    "\n",
    "$\\quad\\quad\\quad$but also the more careful we should be about potential loss of precision.\n",
    "<br>\n",
    "\n"
   ]
  },
  {
   "cell_type": "markdown",
   "metadata": {
    "slideshow": {
     "slide_type": "fragment"
    }
   },
   "source": [
    "* Unlike typical observed data, error is not random-looking, but very structured (see next example)."
   ]
  },
  {
   "cell_type": "markdown",
   "metadata": {
    "slideshow": {
     "slide_type": "slide"
    }
   },
   "source": [
    "## $$\\textbf{Rounding error structure}$$\n",
    "<hr>\n",
    "<br>"
   ]
  },
  {
   "cell_type": "code",
   "execution_count": 45,
   "metadata": {
    "slideshow": {
     "slide_type": "fragment"
    }
   },
   "outputs": [],
   "source": [
    "def rounding_err_structure(val=500, huge_num = 1e+9):\n",
    "\n",
    "    a = np.arange(val).astype('float32')\n",
    "\n",
    "    b = (a + huge_num) - huge_num\n",
    "    error = np.abs(a - b)\n",
    "\n",
    "    plt.figure(figsize=(18,6))\n",
    "    plt.plot(a, error, linewidth=3)\n",
    "    plt.title('Rounding error structure', fontsize=30, pad=20)\n",
    "    plt.xlabel('input number', fontsize=20)\n",
    "    plt.ylabel('output error', fontsize=20);"
   ]
  },
  {
   "cell_type": "code",
   "execution_count": 46,
   "metadata": {
    "slideshow": {
     "slide_type": "fragment"
    }
   },
   "outputs": [
    {
     "data": {
      "image/png": "[encoded data removed]",
      "text/plain": [
       "<Figure size 1296x432 with 1 Axes>"
      ]
     },
     "metadata": {
      "needs_background": "light"
     },
     "output_type": "display_data"
    }
   ],
   "source": [
    "rounding_err_structure()\n"
   ]
  },
  {
   "cell_type": "markdown",
   "metadata": {
    "slideshow": {
     "slide_type": "slide"
    }
   },
   "source": [
    "## $$\\textbf{Overflow}$$\n",
    "<hr>\n",
    "<br>\n",
    "\n",
    "* $\\text{Overflow is a frequently encountered problem when implementing}$\n",
    "$ \\text{machine learning algorithms.}$"
   ]
  },
  {
   "cell_type": "code",
   "execution_count": 50,
   "metadata": {
    "slideshow": {
     "slide_type": "fragment"
    }
   },
   "outputs": [
    {
     "data": {
      "text/plain": [
       "array([  10.,  100., 1000.])"
      ]
     },
     "execution_count": 50,
     "metadata": {},
     "output_type": "execute_result"
    }
   ],
   "source": [
    "a = 10**np.arange(1,4).astype('float64')\n",
    "\n",
    "# [10^1, 10^2, 10^3]\n",
    "a"
   ]
  },
  {
   "cell_type": "code",
   "execution_count": 51,
   "metadata": {
    "slideshow": {
     "slide_type": "fragment"
    }
   },
   "outputs": [
    {
     "name": "stderr",
     "output_type": "stream",
     "text": [
      "<ipython-input-51-935cf2bb3388>:2: RuntimeWarning: overflow encountered in exp\n",
      "  np.exp(a)\n"
     ]
    },
    {
     "data": {
      "text/plain": [
       "array([2.20264658e+04, 2.68811714e+43,            inf])"
      ]
     },
     "execution_count": 51,
     "metadata": {},
     "output_type": "execute_result"
    }
   ],
   "source": [
    "# exponential function overflow\n",
    "np.exp(a)\n"
   ]
  },
  {
   "cell_type": "markdown",
   "metadata": {
    "slideshow": {
     "slide_type": "slide"
    }
   },
   "source": [
    "## $$\\textbf{Example: sigmoid function}$$\n",
    "<hr>\n",
    "<br>\n",
    "\n",
    "$${\\sigma(x) = \\frac{e^{x}}{1+e^{x}}}$$"
   ]
  },
  {
   "cell_type": "code",
   "execution_count": 59,
   "metadata": {
    "scrolled": true,
    "slideshow": {
     "slide_type": "fragment"
    }
   },
   "outputs": [
    {
     "data": {
      "image/png": "[encoded data removed]",
      "text/plain": [
       "<Figure size 1296x576 with 1 Axes>"
      ]
     },
     "metadata": {
      "needs_background": "light"
     },
     "output_type": "display_data"
    }
   ],
   "source": [
    "sigmoid = lambda x: np.exp(x) / (1 + np.exp(x))\n",
    "\n",
    "x = np.linspace(-10, 10, 30)\n",
    "plt.figure(figsize=(18, 8))\n",
    "plt.title('Sigmoid function', fontsize=25)\n",
    "plt.plot(x, sigmoid(x), 'D-', linewidth=2)\n",
    "plt.grid(1)\n"
   ]
  },
  {
   "cell_type": "markdown",
   "metadata": {
    "slideshow": {
     "slide_type": "slide"
    }
   },
   "source": [
    "## $$\\textbf{Compute sigmoid function for some values}$$\n",
    "<hr>\n",
    "<br> "
   ]
  },
  {
   "cell_type": "code",
   "execution_count": 60,
   "metadata": {
    "slideshow": {
     "slide_type": "fragment"
    }
   },
   "outputs": [
    {
     "data": {
      "text/plain": [
       "array([-1.e+04, -1.e+03, -1.e+02, -1.e+01, -1.e+00,  1.e+00,  1.e+01,\n",
       "        1.e+02,  1.e+03,  1.e+04])"
      ]
     },
     "execution_count": 60,
     "metadata": {},
     "output_type": "execute_result"
    }
   ],
   "source": [
    "x = 10. ** np.arange(0,5)\n",
    "x = np.sort(np.concatenate([-x, x])) # huge negative and positive numbers\n",
    "x"
   ]
  },
  {
   "cell_type": "code",
   "execution_count": 61,
   "metadata": {
    "scrolled": true,
    "slideshow": {
     "slide_type": "fragment"
    }
   },
   "outputs": [
    {
     "name": "stderr",
     "output_type": "stream",
     "text": [
      "<ipython-input-59-96dad8f1e7e5>:1: RuntimeWarning: overflow encountered in exp\n",
      "  sigmoid = lambda x: np.exp(x) / (1 + np.exp(x))\n",
      "<ipython-input-59-96dad8f1e7e5>:1: RuntimeWarning: invalid value encountered in true_divide\n",
      "  sigmoid = lambda x: np.exp(x) / (1 + np.exp(x))\n"
     ]
    },
    {
     "data": {
      "text/plain": [
       "array([0.00000000e+00, 0.00000000e+00, 3.72007598e-44, 4.53978687e-05,\n",
       "       2.68941421e-01, 7.31058579e-01, 9.99954602e-01, 1.00000000e+00,\n",
       "                  nan,            nan])"
      ]
     },
     "execution_count": 61,
     "metadata": {},
     "output_type": "execute_result"
    }
   ],
   "source": [
    "sigmoid(x)\n"
   ]
  },
  {
   "cell_type": "markdown",
   "metadata": {
    "slideshow": {
     "slide_type": "fragment"
    }
   },
   "source": [
    "* $\\text{Where does the `nan` come from?}$"
   ]
  },
  {
   "cell_type": "code",
   "execution_count": 63,
   "metadata": {
    "slideshow": {
     "slide_type": "fragment"
    }
   },
   "outputs": [
    {
     "data": {
      "text/plain": [
       "(nan, nan, nan)"
      ]
     },
     "execution_count": 63,
     "metadata": {},
     "output_type": "execute_result"
    }
   ],
   "source": [
    "# Undefined mathematical operations\n",
    "\n",
    "np.inf/np.inf, 0.*np.inf,  np.inf - np.inf\n"
   ]
  },
  {
   "cell_type": "code",
   "execution_count": 64,
   "metadata": {
    "slideshow": {
     "slide_type": "fragment"
    }
   },
   "outputs": [
    {
     "data": {
      "text/plain": [
       "(1.0, 0.0, 1.0)"
      ]
     },
     "execution_count": 64,
     "metadata": {},
     "output_type": "execute_result"
    }
   ],
   "source": [
    "# Undefined mathematical operations but works in python be careful !\n",
    "\n",
    "1.** np.inf, 0.**np.inf, 0.**0\n"
   ]
  },
  {
   "cell_type": "markdown",
   "metadata": {
    "slideshow": {
     "slide_type": "slide"
    }
   },
   "source": [
    "## $$\\textbf{Numerically stable sigmoid function}$$\n",
    "<hr>\n",
    "<br> \n",
    "\n",
    "* $\\text{Let's rewrite the sigmoid function in a different way}$\n",
    "\n",
    "$$\n",
    "\\sigma(x) = \\frac{e^{x}}{1+e^{x}} = \\frac{e^{-x} e^{x}}{e^{-x} (1+e^{x})} = \\frac{1}{1+e^{-x}}\n",
    "$$"
   ]
  },
  {
   "cell_type": "code",
   "execution_count": 65,
   "metadata": {
    "slideshow": {
     "slide_type": "fragment"
    }
   },
   "outputs": [
    {
     "data": {
      "text/plain": [
       "array([-1.e+04, -1.e+03, -1.e+02, -1.e+01, -1.e+00,  1.e+00,  1.e+01,\n",
       "        1.e+02,  1.e+03,  1.e+04])"
      ]
     },
     "execution_count": 65,
     "metadata": {},
     "output_type": "execute_result"
    }
   ],
   "source": [
    "sigmoid = lambda x: 1./(1 + np.exp(-x))\n",
    "x"
   ]
  },
  {
   "cell_type": "code",
   "execution_count": 66,
   "metadata": {
    "slideshow": {
     "slide_type": "fragment"
    }
   },
   "outputs": [
    {
     "name": "stderr",
     "output_type": "stream",
     "text": [
      "<ipython-input-65-a4554828f10e>:1: RuntimeWarning: overflow encountered in exp\n",
      "  sigmoid = lambda x: 1./(1 + np.exp(-x))\n"
     ]
    },
    {
     "data": {
      "text/plain": [
       "array([0.00000000e+00, 0.00000000e+00, 3.72007598e-44, 4.53978687e-05,\n",
       "       2.68941421e-01, 7.31058579e-01, 9.99954602e-01, 1.00000000e+00,\n",
       "       1.00000000e+00, 1.00000000e+00])"
      ]
     },
     "execution_count": 66,
     "metadata": {},
     "output_type": "execute_result"
    }
   ],
   "source": [
    "sigmoid(x)\n"
   ]
  },
  {
   "cell_type": "markdown",
   "metadata": {
    "slideshow": {
     "slide_type": "-"
    }
   },
   "source": [
    " $\\text{This time, we are lucky since 1/inf = 0.0,}$ \n",
    " $\\text{which could be the desired result for large negative inputs.}$\n",
    " \n",
    " $\\text{But we still have a RuntimeWarning}$"
   ]
  },
  {
   "cell_type": "markdown",
   "metadata": {
    "slideshow": {
     "slide_type": "slide"
    }
   },
   "source": [
    "## $$\\textbf{Robust sigmoid function}$$\n",
    "<hr>\n",
    "<br> \n",
    "\n",
    "* $\\text{The sigmoid function can be written in yet another way using} \\> \\tanh(x)\\> \\text{function:}$\n",
    "\n",
    "$$\n",
    "\\tanh{(x)} = \\frac{e^{2x} - 1}{e^{2x} + 1}\n",
    "$$\n",
    "<hr>"
   ]
  },
  {
   "cell_type": "markdown",
   "metadata": {
    "slideshow": {
     "slide_type": "fragment"
    }
   },
   "source": [
    "$$\n",
    "\\sigma(x) = \\frac{e^{x}}{1+e^{x}} = \\frac{1}{2}\\Big(\\frac{2e^{x}}{1+e^{x}}\\Big) = \\frac{1}{2}\\Big(\\frac{e^{x} - 1 + 1 + e^{x}}{1+e^{x}}\\Big) = $$"
   ]
  },
  {
   "cell_type": "markdown",
   "metadata": {
    "slideshow": {
     "slide_type": "fragment"
    }
   },
   "source": [
    "\n",
    "$$\\frac{1}{2}\\Big( \\frac{e^{x} - 1}{e^{x}+1} + 1\\Big) = \\frac{1}{2}\\Big( \\tanh\\Big(\\frac{x}{2}\\Big) + 1\\Big)\n",
    "$$"
   ]
  },
  {
   "cell_type": "code",
   "execution_count": 67,
   "metadata": {
    "slideshow": {
     "slide_type": "fragment"
    }
   },
   "outputs": [
    {
     "data": {
      "text/plain": [
       "array([0.00000000e+00, 0.00000000e+00, 0.00000000e+00, 4.53978687e-05,\n",
       "       2.68941421e-01, 7.31058579e-01, 9.99954602e-01, 1.00000000e+00,\n",
       "       1.00000000e+00, 1.00000000e+00])"
      ]
     },
     "execution_count": 67,
     "metadata": {},
     "output_type": "execute_result"
    }
   ],
   "source": [
    "sigmoid = lambda x: 0.5 * ( np.tanh(0.5 * x) + 1 )\n",
    "\n",
    "# And there is no runtime warning this time.\n",
    "sigmoid(x)\n"
   ]
  },
  {
   "cell_type": "markdown",
   "metadata": {
    "slideshow": {
     "slide_type": "slide"
    }
   },
   "source": [
    "## $$\\textbf{Clipped sigmoid function}$$\n",
    "<hr>\n",
    "<br> \n",
    "\n",
    "* $\\text{Suppose we cannot find a stable function definition.}$ \n",
    "\n",
    "$\\quad\\quad\\text{The sigmoid function can alternatively be approximated to avoid the overflow:}$"
   ]
  },
  {
   "cell_type": "code",
   "execution_count": 68,
   "metadata": {
    "slideshow": {
     "slide_type": "fragment"
    }
   },
   "outputs": [],
   "source": [
    "def clipped_sigmoid(x, min_val=-3, max_val=3):\n",
    "\n",
    "    plt.figure(figsize=(20,6))\n",
    "    plt.plot(x, sigmoid(x), 'r', ls='--', label='sigmoid')\n",
    "\n",
    "    plt.plot(x, sigmoid(np.clip(x, min_val, max_val)), 'b', label='clipped')\n",
    "    plt.xticks(np.arange(x.min(), x.max(), 3), fontsize=12)\n",
    "    plt.legend(fontsize=20)\n",
    "    plt.grid(axis='x')\n",
    "    "
   ]
  },
  {
   "cell_type": "code",
   "execution_count": 69,
   "metadata": {
    "slideshow": {
     "slide_type": "fragment"
    }
   },
   "outputs": [
    {
     "data": {
      "image/png": "[encoded data removed]",
      "text/plain": [
       "<Figure size 1440x432 with 1 Axes>"
      ]
     },
     "metadata": {
      "needs_background": "light"
     },
     "output_type": "display_data"
    }
   ],
   "source": [
    "clipped_sigmoid(np.linspace(-12, 12, 100))\n"
   ]
  },
  {
   "cell_type": "markdown",
   "metadata": {
    "slideshow": {
     "slide_type": "-"
    }
   },
   "source": [
    "* $\\text{The numpy clip function prevents the input from going outside a certain interval. }$\n",
    "\n",
    "\n",
    "* $\\text{This effectively avoids overflow in the exponential,}$ \n",
    "$\\text{but also causes a small approximation error.}$"
   ]
  },
  {
   "cell_type": "markdown",
   "metadata": {
    "slideshow": {
     "slide_type": "slide"
    }
   },
   "source": [
    "## $$\\textbf{Frequent source of the overflows}$$\n",
    "<hr>\n",
    "<br>"
   ]
  },
  {
   "cell_type": "markdown",
   "metadata": {
    "slideshow": {
     "slide_type": "fragment"
    }
   },
   "source": [
    "$ \\text{Many probability desity functions (pdfs) } p(x) \\text{ for } x \\in \\mathbb R^D \\text{ can be written as:}$\n",
    "<hr>\n",
    "<br>\n",
    "$${\n",
    "p(x) = \\frac{\\exp\\Big(-E_{\\theta}(x)\\Big)}{Z(\\theta)},\\quad \\text{where}\\quad E_{\\theta}(x): \\mathbb R^{D} \\rightarrow \\mathbb R \\quad \\textit{( energy function )}\n",
    "}$$\n",
    "\n",
    "$${\n",
    "Z(\\theta) = \\int_x \\exp\\Big(-E_{\\theta}(x)\\Big)\\  dx, \\quad \\textit{( normalization constant )}\n",
    "}$$\n",
    "<br>"
   ]
  },
  {
   "cell_type": "markdown",
   "metadata": {
    "slideshow": {
     "slide_type": "fragment"
    }
   },
   "source": [
    "* $\\text{Example of such pdfs: Gaussian, Multinomial, Exponential, Poisson...}$\n",
    "\n",
    "\n",
    "* $\\text{These functions have a risk of overflow due to the exponential function inside.}$"
   ]
  },
  {
   "cell_type": "markdown",
   "metadata": {
    "slideshow": {
     "slide_type": "fragment"
    }
   },
   "source": [
    "* $\\text{Machine learning algorithms often use these distributions,}$\n",
    "$\\text{because their parameters can be learned easily.}$ "
   ]
  },
  {
   "cell_type": "markdown",
   "metadata": {
    "slideshow": {
     "slide_type": "fragment"
    }
   },
   "source": [
    "$\\text{For example:}$\n",
    "\n",
    "$\\quad \\text{Mean parameter of a Gaussian distribution can be estimated by computing the empirical mean of the data,}$ \n",
    "\n",
    "\n",
    "$\\quad \\text{Scale parameter can be learned by the empirical standard deviation.}$\n",
    "\n",
    "\n"
   ]
  },
  {
   "cell_type": "markdown",
   "metadata": {
    "slideshow": {
     "slide_type": "slide"
    }
   },
   "source": [
    "## $$\\textbf{Unnormalized discrete density}$$\n",
    "<hr>\n",
    "<br> "
   ]
  },
  {
   "cell_type": "code",
   "execution_count": 70,
   "metadata": {
    "slideshow": {
     "slide_type": "fragment"
    }
   },
   "outputs": [],
   "source": [
    "x = np.linspace(-2, 6, 100).astype(np.float32)\n",
    "\n",
    "E = lambda x: (x - 2)**2/2\n",
    "p = lambda x, Z = 1: np.exp(-E(x))/Z\n"
   ]
  },
  {
   "cell_type": "code",
   "execution_count": 72,
   "metadata": {
    "scrolled": false,
    "slideshow": {
     "slide_type": "fragment"
    }
   },
   "outputs": [],
   "source": [
    "def plot(x, p, Z=1):\n",
    "    plt.figure(figsize=(12,6))\n",
    "    plt.title('Unnormalized density', fontsize=25)\n",
    "    plt.plot(x, p(x, Z), '.', linewidth=3)\n",
    "    plt.grid()\n",
    "    print(p(x, Z).sum())\n",
    "    "
   ]
  },
  {
   "cell_type": "code",
   "execution_count": 74,
   "metadata": {
    "slideshow": {
     "slide_type": "fragment"
    }
   },
   "outputs": [
    {
     "name": "stdout",
     "output_type": "stream",
     "text": [
      "31.017876\n"
     ]
    },
    {
     "data": {
      "image/png": "[encoded data removed]",
      "text/plain": [
       "<Figure size 864x432 with 1 Axes>"
      ]
     },
     "metadata": {
      "needs_background": "light"
     },
     "output_type": "display_data"
    }
   ],
   "source": [
    "plot(x, p)\n"
   ]
  },
  {
   "cell_type": "markdown",
   "metadata": {
    "slideshow": {
     "slide_type": "slide"
    }
   },
   "source": [
    "## $$\\textbf{Normalized discrete density}$$\n",
    "<hr>\n",
    "<br> "
   ]
  },
  {
   "cell_type": "markdown",
   "metadata": {
    "slideshow": {
     "slide_type": "fragment"
    }
   },
   "source": [
    "$$\\sum_{x} p(x) = \\frac{1}{Z(\\theta)}\\sum_{x} \\exp\\Big(-E_{\\theta}(x)\\Big) = 1\\quad \\Rightarrow\\quad Z(\\theta) = \\sum_{x} \\exp\\Big(-E_{\\theta}(x)\\Big)$$"
   ]
  },
  {
   "cell_type": "code",
   "execution_count": 75,
   "metadata": {
    "slideshow": {
     "slide_type": "fragment"
    }
   },
   "outputs": [
    {
     "name": "stdout",
     "output_type": "stream",
     "text": [
      "1.0000001 <class 'numpy.float32'>\n",
      "True\n"
     ]
    },
    {
     "data": {
      "image/png": "[encoded data removed]",
      "text/plain": [
       "<Figure size 864x432 with 1 Axes>"
      ]
     },
     "metadata": {
      "needs_background": "light"
     },
     "output_type": "display_data"
    }
   ],
   "source": [
    "Z = p(x).sum()\n",
    "\n",
    "plt.figure(figsize=(12,6))\n",
    "plt.title('Normalized density', fontsize=25)\n",
    "plt.plot(x, p(x, Z), '.',linewidth=3)\n",
    "plt.grid()\n",
    "\n",
    "val = p(x,Z).sum()\n",
    "print(val, type(val))\n",
    "print(np.isclose(1., val, rtol=1e-6))\n",
    "\n",
    "#np.testing.assert_allclose(1., val)"
   ]
  },
  {
   "cell_type": "markdown",
   "metadata": {
    "slideshow": {
     "slide_type": "slide"
    }
   },
   "source": [
    "## $$\\textbf{Log-density function}$$\n",
    "<hr>\n",
    "<br> \n",
    "\n",
    "* $\\text{Numerically more stable pdf computation in the} \\textit{ log-}\\text{space}.$\n",
    "<br>\n",
    "<br>\n",
    "\n",
    "$${\\Large{\n",
    "\\ln p(x) = -  \\ln Z(\\theta) - E_{\\theta}(x)\n",
    "}}$$"
   ]
  },
  {
   "cell_type": "markdown",
   "metadata": {
    "slideshow": {
     "slide_type": "slide"
    }
   },
   "source": [
    "## $$\\textbf{Example: Poisson probability mass function}$$\n",
    "<hr>\n",
    "<br> \n",
    "\n",
    "$$\\Large{\n",
    "p(k | \\lambda) = {\\frac{\\lambda^k}{k !}} \\exp(-\\lambda), \\quad k \\geq 0\n",
    "}$$"
   ]
  },
  {
   "cell_type": "code",
   "execution_count": 135,
   "metadata": {
    "slideshow": {
     "slide_type": "fragment"
    }
   },
   "outputs": [],
   "source": [
    "from scipy.special import factorial\n",
    "\n",
    "def poisson_pmf(k, lambd):\n",
    "    return lambd**k * np.exp(-lambd)/factorial(k) \n"
   ]
  },
  {
   "cell_type": "code",
   "execution_count": 136,
   "metadata": {
    "slideshow": {
     "slide_type": "fragment"
    }
   },
   "outputs": [
    {
     "name": "stdout",
     "output_type": "stream",
     "text": [
      "[4 1 1 2 2 3 0 3 1 3]\n",
      "3.14\n"
     ]
    }
   ],
   "source": [
    "from scipy.stats import poisson\n",
    "\n",
    "# Draw samples from Poisson distribution\n",
    "lambd = 3 # income rate for each period of time\n",
    "\n",
    "pos = poisson(lambd)\n",
    "k =  np.sort(pos.rvs(500)) # drawing 500 samples from Poisson\n",
    "\n",
    "idx = np.arange(len(k))\n",
    "np.random.shuffle(idx)\n",
    "\n",
    "print(k[idx[:10]]) #print ten random samples\n",
    "\n",
    "print(np.mean(k))\n"
   ]
  },
  {
   "cell_type": "code",
   "execution_count": 137,
   "metadata": {
    "scrolled": true,
    "slideshow": {
     "slide_type": "slide"
    }
   },
   "outputs": [],
   "source": [
    "def plot_poisson(k, pmf):\n",
    "    plt.figure(figsize=(16,6))\n",
    "    \n",
    "    plt.title('Poisson mass function', fontsize=20)\n",
    "    plt.hist(k, bins=20, density=True, alpha=0.5, align='mid')\n",
    "    plt.xticks(np.arange(10))\n",
    "    plt.plot(k,  pmf, 's--', linewidth=3, c='r', label='$\\lambda=$'+f'{lambd}', alpha=0.5)\n",
    "    plt.legend(fontsize=20)\n",
    "    plt.grid()\n",
    "    "
   ]
  },
  {
   "cell_type": "code",
   "execution_count": 138,
   "metadata": {
    "slideshow": {
     "slide_type": "fragment"
    }
   },
   "outputs": [
    {
     "data": {
      "image/png": "[encoded data removed]",
      "text/plain": [
       "<Figure size 1152x432 with 1 Axes>"
      ]
     },
     "metadata": {
      "needs_background": "light"
     },
     "output_type": "display_data"
    }
   ],
   "source": [
    "plot_poisson(k, poisson_pmf(k, lambd))\n"
   ]
  },
  {
   "cell_type": "markdown",
   "metadata": {
    "slideshow": {
     "slide_type": "slide"
    }
   },
   "source": [
    "## $$\\textbf{Error because of too large factorial value}$$\n",
    "<hr>\n",
    "<br> "
   ]
  },
  {
   "cell_type": "code",
   "execution_count": 139,
   "metadata": {
    "slideshow": {
     "slide_type": "fragment"
    }
   },
   "outputs": [
    {
     "ename": "OverflowError",
     "evalue": "int too large to convert to float",
     "output_type": "error",
     "traceback": [
      "\u001b[0;31m---------------------------------------------------------------------------\u001b[0m",
      "\u001b[0;31mOverflowError\u001b[0m                             Traceback (most recent call last)",
      "\u001b[0;32m<ipython-input-139-ef03d338c95c>\u001b[0m in \u001b[0;36m<module>\u001b[0;34m\u001b[0m\n\u001b[1;32m      2\u001b[0m \u001b[0;34m\u001b[0m\u001b[0m\n\u001b[1;32m      3\u001b[0m \u001b[0mlarge_k\u001b[0m \u001b[0;34m=\u001b[0m \u001b[0;36m1000\u001b[0m\u001b[0;34m\u001b[0m\u001b[0;34m\u001b[0m\u001b[0m\n\u001b[0;32m----> 4\u001b[0;31m \u001b[0mpoisson_pmf\u001b[0m\u001b[0;34m(\u001b[0m\u001b[0mlarge_k\u001b[0m\u001b[0;34m,\u001b[0m \u001b[0mlambd\u001b[0m\u001b[0;34m)\u001b[0m\u001b[0;34m\u001b[0m\u001b[0;34m\u001b[0m\u001b[0m\n\u001b[0m",
      "\u001b[0;32m<ipython-input-135-c6689cc1deb2>\u001b[0m in \u001b[0;36mpoisson_pmf\u001b[0;34m(k, lambd)\u001b[0m\n\u001b[1;32m      2\u001b[0m \u001b[0;34m\u001b[0m\u001b[0m\n\u001b[1;32m      3\u001b[0m \u001b[0;32mdef\u001b[0m \u001b[0mpoisson_pmf\u001b[0m\u001b[0;34m(\u001b[0m\u001b[0mk\u001b[0m\u001b[0;34m,\u001b[0m \u001b[0mlambd\u001b[0m\u001b[0;34m)\u001b[0m\u001b[0;34m:\u001b[0m\u001b[0;34m\u001b[0m\u001b[0;34m\u001b[0m\u001b[0m\n\u001b[0;32m----> 4\u001b[0;31m     \u001b[0;32mreturn\u001b[0m \u001b[0mlambd\u001b[0m\u001b[0;34m**\u001b[0m\u001b[0mk\u001b[0m \u001b[0;34m*\u001b[0m \u001b[0mnp\u001b[0m\u001b[0;34m.\u001b[0m\u001b[0mexp\u001b[0m\u001b[0;34m(\u001b[0m\u001b[0;34m-\u001b[0m\u001b[0mlambd\u001b[0m\u001b[0;34m)\u001b[0m\u001b[0;34m/\u001b[0m\u001b[0mfactorial\u001b[0m\u001b[0;34m(\u001b[0m\u001b[0mk\u001b[0m\u001b[0;34m)\u001b[0m\u001b[0;34m\u001b[0m\u001b[0;34m\u001b[0m\u001b[0m\n\u001b[0m",
      "\u001b[0;31mOverflowError\u001b[0m: int too large to convert to float"
     ]
    }
   ],
   "source": [
    "# Let's try to compute a pmf value for a large value\n",
    "\n",
    "large_k = 1000\n",
    "poisson_pmf(large_k, lambd)\n"
   ]
  },
  {
   "cell_type": "markdown",
   "metadata": {
    "slideshow": {
     "slide_type": "slide"
    }
   },
   "source": [
    "## $$\\textbf{Poisson log-probability mass function}$$\n",
    "<hr>"
   ]
  },
  {
   "cell_type": "markdown",
   "metadata": {
    "slideshow": {
     "slide_type": "fragment"
    }
   },
   "source": [
    "$$\\Large{\n",
    "\\ln p(k |\\lambda) = k \\ln \\lambda - \\ln{k !}  -\\lambda , \\quad k \\geq 0 }\n",
    "$$"
   ]
  },
  {
   "cell_type": "markdown",
   "metadata": {
    "slideshow": {
     "slide_type": "fragment"
    }
   },
   "source": [
    "<hr>\n",
    "$$\\Large{\n",
    "k ! = \\Gamma(k + 1), \\quad \\Gamma(x) = \\int_{0}^{\\infty} t^{x - 1}\\exp^{-t} dt \n",
    "}$$"
   ]
  },
  {
   "cell_type": "code",
   "execution_count": 140,
   "metadata": {
    "slideshow": {
     "slide_type": "fragment"
    }
   },
   "outputs": [],
   "source": [
    "from scipy.special import loggamma\n",
    "\n",
    "def log_poisson_pmf(k, lambd):\n",
    "    assert np.all(k >= 0)\n",
    "    return k*np.log(lambd) - loggamma(k + 1) - lambd \n"
   ]
  },
  {
   "cell_type": "code",
   "execution_count": 141,
   "metadata": {},
   "outputs": [
    {
     "data": {
      "text/plain": [
       "-4816.515889820054"
      ]
     },
     "execution_count": 141,
     "metadata": {},
     "output_type": "execute_result"
    }
   ],
   "source": [
    "log_poisson_pmf(large_k, lambd)\n"
   ]
  },
  {
   "cell_type": "code",
   "execution_count": 146,
   "metadata": {
    "slideshow": {
     "slide_type": "fragment"
    }
   },
   "outputs": [],
   "source": [
    "# Exponentiate the log_pmf in order to get the pmf value\n",
    "\n",
    "normal_k = 10\n",
    "\n",
    "pmf = poisson_pmf(normal_k, lambd)\n",
    "log_pmf = log_poisson_pmf(normal_k, lambd) \n",
    "\n",
    "assert np.allclose(pmf, np.exp(log_pmf))\n"
   ]
  },
  {
   "cell_type": "markdown",
   "metadata": {
    "slideshow": {
     "slide_type": "slide"
    }
   },
   "source": [
    "## $$\\textbf{Normalization constant of a log-density function}$$\n",
    "<hr>\n",
    "<br> \n",
    "\n",
    "* $\\text{Numerically stable pdf computation}$\n",
    "<br>\n",
    "<br>\n",
    "\n",
    "$${\n",
    "0 = \\ln \\sum_{x} p(x) = \\ln\\bigg[ \\frac{1}{Z(\\theta)} \\sum_{x} \\exp {\\Big(- E_{\\theta}(x)\\Big)}\\bigg] = -\\ln Z(\\theta) + \\ln\\sum_{x} \\exp(f(x))\n",
    "}$$\n"
   ]
  },
  {
   "cell_type": "markdown",
   "metadata": {
    "slideshow": {
     "slide_type": "fragment"
    }
   },
   "source": [
    "\n",
    "$${\n",
    "\\ln Z(\\theta) = \\ln \\underbrace{\\sum_{x} \\exp\\Big(-E_{\\theta}(x)\\Big)}_{\\text{sum of exp}}\n",
    "}$$"
   ]
  },
  {
   "cell_type": "markdown",
   "metadata": {
    "slideshow": {
     "slide_type": "slide"
    }
   },
   "source": [
    "## $$\\textbf{Log-Sum-Exp trick}$$\n",
    "<hr>\n",
    "<br> "
   ]
  },
  {
   "cell_type": "markdown",
   "metadata": {
    "slideshow": {
     "slide_type": "fragment"
    }
   },
   "source": [
    "* $\\text{Given}\\> x = \\{x1, x2, \\cdots, x_n\\},\\> \\text{where}\\> n \\in \\mathbb{N}$\n",
    "\n",
    "$$ y = \\ln \\sum_{n=1}^N e^{x_n}\\quad  \\Rightarrow \\quad e^y = \\sum_{n=1}^N e^{x_n}$$"
   ]
  },
  {
   "cell_type": "markdown",
   "metadata": {
    "slideshow": {
     "slide_type": "fragment"
    }
   },
   "source": [
    "* $\\text{Multiply both sides by}\\> e^{-a} \\neq 0 $\n",
    "$$ e^{-a} e^y = e^{-a}\\sum_{n=1}^N e^{x_n} \\quad  \\Rightarrow \\quad e^{y-a} = \\sum_{n=1}^N e^{x_n - a}$$"
   ]
  },
  {
   "cell_type": "markdown",
   "metadata": {
    "slideshow": {
     "slide_type": "fragment"
    }
   },
   "source": [
    "$$ {y-a} = \\ln \\sum_{n=1}^N e^{x_n - a} \\quad  \\Rightarrow \\quad y = a + \\ln \\sum_{n=1}^N e^{x_n - a} $$"
   ]
  },
  {
   "cell_type": "markdown",
   "metadata": {
    "slideshow": {
     "slide_type": "fragment"
    }
   },
   "source": [
    "$$\\boxed{y = \\ln \\sum_{n=1}^N e^{x_n} = a + \\ln \\sum_{n=1}^N e^{x_n - a},\\quad a = \\max(x_i),\\quad i = \\overline{1,\\cdots,N}}$$"
   ]
  },
  {
   "cell_type": "markdown",
   "metadata": {
    "slideshow": {
     "slide_type": "slide"
    }
   },
   "source": [
    "## $$\\textbf{Working with source data efficiently}$$\n",
    "<hr>\n",
    "<br> \n",
    "\n",
    "\n",
    "<center>\n",
    "    <img src='./images/pan.png' width=500>    \n",
    "</center>"
   ]
  },
  {
   "cell_type": "markdown",
   "metadata": {
    "slideshow": {
     "slide_type": "slide"
    }
   },
   "source": [
    "## $$\\textbf{Data Series}$$\n",
    "<hr>\n",
    "<br> "
   ]
  },
  {
   "cell_type": "markdown",
   "metadata": {
    "slideshow": {
     "slide_type": "fragment"
    }
   },
   "source": [
    "* $\\text{Specialization of } \\textbf{Python} \\text{ dictionary.}$"
   ]
  },
  {
   "cell_type": "code",
   "execution_count": 147,
   "metadata": {
    "slideshow": {
     "slide_type": "fragment"
    }
   },
   "outputs": [],
   "source": [
    "# conda install -c anaconda pandas\n",
    "\n",
    "import pandas as pd\n",
    "import numpy as np\n"
   ]
  },
  {
   "cell_type": "code",
   "execution_count": 148,
   "metadata": {
    "slideshow": {
     "slide_type": "fragment"
    }
   },
   "outputs": [
    {
     "data": {
      "text/plain": [
       "0     0.0\n",
       "10    2.0\n",
       "20    4.0\n",
       "30    6.0\n",
       "dtype: float64"
      ]
     },
     "execution_count": 148,
     "metadata": {},
     "output_type": "execute_result"
    }
   ],
   "source": [
    "lst = [0, 2, 4., 6]\n",
    "data = pd.Series(lst, index = 10*np.arange(len(lst))) # arbitraty index could be used\n",
    "data\n"
   ]
  },
  {
   "cell_type": "code",
   "execution_count": 149,
   "metadata": {
    "slideshow": {
     "slide_type": "fragment"
    }
   },
   "outputs": [
    {
     "data": {
      "text/plain": [
       "(pandas.core.series.Series,\n",
       " Int64Index([0, 10, 20, 30], dtype='int64'),\n",
       " array([0., 2., 4., 6.]))"
      ]
     },
     "execution_count": 149,
     "metadata": {},
     "output_type": "execute_result"
    }
   ],
   "source": [
    "type(data), data.index, data.values\n"
   ]
  },
  {
   "cell_type": "code",
   "execution_count": 150,
   "metadata": {
    "slideshow": {
     "slide_type": "fragment"
    }
   },
   "outputs": [
    {
     "name": "stdout",
     "output_type": "stream",
     "text": [
      "2.0\n",
      "==========\n",
      "0     0.0\n",
      "10    2.0\n",
      "dtype: float64\n",
      "==========\n",
      "0     0.0\n",
      "20    4.0\n",
      "dtype: float64\n"
     ]
    }
   ],
   "source": [
    "# Indexing\n",
    "\n",
    "print(data[10]) # getting one element\n",
    "print(10*'=')\n",
    "print(data[:2]) # slices\n",
    "print(10*'=')\n",
    "print(data[[True, False, True, False]]) # using a boolen mask\n"
   ]
  },
  {
   "cell_type": "markdown",
   "metadata": {
    "slideshow": {
     "slide_type": "slide"
    }
   },
   "source": [
    "## $$\\textbf{Data Series from Dictionary}$$\n",
    "<hr>\n",
    "<br> "
   ]
  },
  {
   "cell_type": "code",
   "execution_count": 151,
   "metadata": {
    "slideshow": {
     "slide_type": "fragment"
    }
   },
   "outputs": [
    {
     "data": {
      "text/plain": [
       "3    three\n",
       "1      one\n",
       "2      two\n",
       "0     zero\n",
       "dtype: object"
      ]
     },
     "execution_count": 151,
     "metadata": {},
     "output_type": "execute_result"
    }
   ],
   "source": [
    "dct = { 3 : 'three', 1 : 'one', 2 : 'two', 0 : 'zero'}\n",
    "pd.Series(dct)\n"
   ]
  },
  {
   "cell_type": "code",
   "execution_count": 152,
   "metadata": {
    "slideshow": {
     "slide_type": "fragment"
    }
   },
   "outputs": [
    {
     "data": {
      "text/plain": [
       "3    three\n",
       "2      two\n",
       "0     zero\n",
       "dtype: object"
      ]
     },
     "execution_count": 152,
     "metadata": {},
     "output_type": "execute_result"
    }
   ],
   "source": [
    "pd.Series(dct, index = [3, 2, 0]) # keys to be taken from the dict\n"
   ]
  },
  {
   "cell_type": "markdown",
   "metadata": {
    "slideshow": {
     "slide_type": "slide"
    }
   },
   "source": [
    "## $$\\textbf{Data Frame}$$\n",
    "<hr>\n",
    "<br> "
   ]
  },
  {
   "cell_type": "markdown",
   "metadata": {
    "slideshow": {
     "slide_type": "fragment"
    }
   },
   "source": [
    "* $\\text{Generalization of a } NumPy \\ 2d\\text{-array with both flexible row and\n",
    "column names}$"
   ]
  },
  {
   "cell_type": "code",
   "execution_count": 185,
   "metadata": {
    "slideshow": {
     "slide_type": "fragment"
    }
   },
   "outputs": [],
   "source": [
    "# Let's create two Series objects\n",
    "\n",
    "ages_dct = {'Anna': 19, 'Bob': 28, 'Carl': 23}\n",
    "ages = pd.Series(ages_dct)\n",
    "\n",
    "iqs_dct = {'Anna': 129, 'Bob': 117, 'Carl': 123}\n",
    "iqs = pd.Series(iqs_dct)"
   ]
  },
  {
   "cell_type": "code",
   "execution_count": 186,
   "metadata": {
    "slideshow": {
     "slide_type": "fragment"
    }
   },
   "outputs": [
    {
     "data": {
      "text/plain": [
       "{'age': Anna    19\n",
       " Bob     28\n",
       " Carl    23\n",
       " dtype: int64,\n",
       " 'iq': Anna    129\n",
       " Bob     117\n",
       " Carl    123\n",
       " dtype: int64}"
      ]
     },
     "execution_count": 186,
     "metadata": {},
     "output_type": "execute_result"
    }
   ],
   "source": [
    "# Combine the Series in a dict\n",
    "persons = {'age' : ages, 'iq' : iqs}\n",
    "persons"
   ]
  },
  {
   "cell_type": "code",
   "execution_count": 187,
   "metadata": {
    "slideshow": {
     "slide_type": "fragment"
    }
   },
   "outputs": [
    {
     "data": {
      "text/html": [
       "<div>\n",
       "<style scoped>\n",
       "    .dataframe tbody tr th:only-of-type {\n",
       "        vertical-align: middle;\n",
       "    }\n",
       "\n",
       "    .dataframe tbody tr th {\n",
       "        vertical-align: top;\n",
       "    }\n",
       "\n",
       "    .dataframe thead th {\n",
       "        text-align: right;\n",
       "    }\n",
       "</style>\n",
       "<table border=\"1\" class=\"dataframe\">\n",
       "  <thead>\n",
       "    <tr style=\"text-align: right;\">\n",
       "      <th></th>\n",
       "      <th>age</th>\n",
       "      <th>iq</th>\n",
       "    </tr>\n",
       "  </thead>\n",
       "  <tbody>\n",
       "    <tr>\n",
       "      <th>Anna</th>\n",
       "      <td>19</td>\n",
       "      <td>129</td>\n",
       "    </tr>\n",
       "    <tr>\n",
       "      <th>Bob</th>\n",
       "      <td>28</td>\n",
       "      <td>117</td>\n",
       "    </tr>\n",
       "    <tr>\n",
       "      <th>Carl</th>\n",
       "      <td>23</td>\n",
       "      <td>123</td>\n",
       "    </tr>\n",
       "  </tbody>\n",
       "</table>\n",
       "</div>"
      ],
      "text/plain": [
       "      age   iq\n",
       "Anna   19  129\n",
       "Bob    28  117\n",
       "Carl   23  123"
      ]
     },
     "execution_count": 187,
     "metadata": {},
     "output_type": "execute_result"
    }
   ],
   "source": [
    "# Create a DataFrame from dict\n",
    "persons = pd.DataFrame(persons) \n",
    "persons"
   ]
  },
  {
   "cell_type": "code",
   "execution_count": 188,
   "metadata": {
    "slideshow": {
     "slide_type": "fragment"
    }
   },
   "outputs": [
    {
     "name": "stdout",
     "output_type": "stream",
     "text": [
      "Index(['Anna', 'Bob', 'Carl'], dtype='object')\n",
      "==========\n",
      "Index(['age', 'iq'], dtype='object')\n"
     ]
    }
   ],
   "source": [
    "print(persons.index)\n",
    "print(10*'=')\n",
    "print(persons.columns)\n"
   ]
  },
  {
   "cell_type": "markdown",
   "metadata": {
    "slideshow": {
     "slide_type": "slide"
    }
   },
   "source": [
    "## $$\\textbf{Reading Data from a File}$$\n",
    "<hr>\n",
    "<br> "
   ]
  },
  {
   "cell_type": "code",
   "execution_count": 177,
   "metadata": {
    "slideshow": {
     "slide_type": "fragment"
    }
   },
   "outputs": [],
   "source": [
    "presidents = pd.read_csv('./data/presidents_height.csv')\n"
   ]
  },
  {
   "cell_type": "code",
   "execution_count": 189,
   "metadata": {
    "slideshow": {
     "slide_type": "fragment"
    }
   },
   "outputs": [
    {
     "data": {
      "text/html": [
       "<div>\n",
       "<style scoped>\n",
       "    .dataframe tbody tr th:only-of-type {\n",
       "        vertical-align: middle;\n",
       "    }\n",
       "\n",
       "    .dataframe tbody tr th {\n",
       "        vertical-align: top;\n",
       "    }\n",
       "\n",
       "    .dataframe thead th {\n",
       "        text-align: right;\n",
       "    }\n",
       "</style>\n",
       "<table border=\"1\" class=\"dataframe\">\n",
       "  <thead>\n",
       "    <tr style=\"text-align: right;\">\n",
       "      <th></th>\n",
       "      <th>order</th>\n",
       "      <th>name</th>\n",
       "      <th>height(cm)</th>\n",
       "    </tr>\n",
       "  </thead>\n",
       "  <tbody>\n",
       "    <tr>\n",
       "      <th>0</th>\n",
       "      <td>1</td>\n",
       "      <td>George Washington</td>\n",
       "      <td>189</td>\n",
       "    </tr>\n",
       "    <tr>\n",
       "      <th>1</th>\n",
       "      <td>2</td>\n",
       "      <td>John Adams</td>\n",
       "      <td>170</td>\n",
       "    </tr>\n",
       "    <tr>\n",
       "      <th>2</th>\n",
       "      <td>3</td>\n",
       "      <td>Thomas Jefferson</td>\n",
       "      <td>189</td>\n",
       "    </tr>\n",
       "    <tr>\n",
       "      <th>3</th>\n",
       "      <td>4</td>\n",
       "      <td>James Madison</td>\n",
       "      <td>163</td>\n",
       "    </tr>\n",
       "    <tr>\n",
       "      <th>4</th>\n",
       "      <td>5</td>\n",
       "      <td>James Monroe</td>\n",
       "      <td>183</td>\n",
       "    </tr>\n",
       "    <tr>\n",
       "      <th>5</th>\n",
       "      <td>6</td>\n",
       "      <td>John Quincy Adams</td>\n",
       "      <td>171</td>\n",
       "    </tr>\n",
       "    <tr>\n",
       "      <th>6</th>\n",
       "      <td>7</td>\n",
       "      <td>Andrew Jackson</td>\n",
       "      <td>185</td>\n",
       "    </tr>\n",
       "    <tr>\n",
       "      <th>7</th>\n",
       "      <td>8</td>\n",
       "      <td>Martin Van Buren</td>\n",
       "      <td>168</td>\n",
       "    </tr>\n",
       "    <tr>\n",
       "      <th>8</th>\n",
       "      <td>9</td>\n",
       "      <td>William Henry Harrison</td>\n",
       "      <td>173</td>\n",
       "    </tr>\n",
       "    <tr>\n",
       "      <th>9</th>\n",
       "      <td>10</td>\n",
       "      <td>John Tyler</td>\n",
       "      <td>183</td>\n",
       "    </tr>\n",
       "  </tbody>\n",
       "</table>\n",
       "</div>"
      ],
      "text/plain": [
       "   order                    name  height(cm)\n",
       "0      1       George Washington         189\n",
       "1      2              John Adams         170\n",
       "2      3        Thomas Jefferson         189\n",
       "3      4           James Madison         163\n",
       "4      5            James Monroe         183\n",
       "5      6       John Quincy Adams         171\n",
       "6      7          Andrew Jackson         185\n",
       "7      8        Martin Van Buren         168\n",
       "8      9  William Henry Harrison         173\n",
       "9     10              John Tyler         183"
      ]
     },
     "execution_count": 189,
     "metadata": {},
     "output_type": "execute_result"
    }
   ],
   "source": [
    "presidents.head(10)\n"
   ]
  },
  {
   "cell_type": "code",
   "execution_count": 190,
   "metadata": {
    "slideshow": {
     "slide_type": "fragment"
    }
   },
   "outputs": [],
   "source": [
    "headers = ['user_id', 'movie_id', 'rating', 'timestamp']\n",
    "movies = pd.read_csv('./data/u.data', delimiter='\\t', names=headers)"
   ]
  },
  {
   "cell_type": "code",
   "execution_count": 191,
   "metadata": {
    "slideshow": {
     "slide_type": "fragment"
    }
   },
   "outputs": [
    {
     "data": {
      "text/html": [
       "<div>\n",
       "<style scoped>\n",
       "    .dataframe tbody tr th:only-of-type {\n",
       "        vertical-align: middle;\n",
       "    }\n",
       "\n",
       "    .dataframe tbody tr th {\n",
       "        vertical-align: top;\n",
       "    }\n",
       "\n",
       "    .dataframe thead th {\n",
       "        text-align: right;\n",
       "    }\n",
       "</style>\n",
       "<table border=\"1\" class=\"dataframe\">\n",
       "  <thead>\n",
       "    <tr style=\"text-align: right;\">\n",
       "      <th></th>\n",
       "      <th>user_id</th>\n",
       "      <th>movie_id</th>\n",
       "      <th>rating</th>\n",
       "      <th>timestamp</th>\n",
       "    </tr>\n",
       "  </thead>\n",
       "  <tbody>\n",
       "    <tr>\n",
       "      <th>99995</th>\n",
       "      <td>880</td>\n",
       "      <td>476</td>\n",
       "      <td>3</td>\n",
       "      <td>880175444</td>\n",
       "    </tr>\n",
       "    <tr>\n",
       "      <th>99996</th>\n",
       "      <td>716</td>\n",
       "      <td>204</td>\n",
       "      <td>5</td>\n",
       "      <td>879795543</td>\n",
       "    </tr>\n",
       "    <tr>\n",
       "      <th>99997</th>\n",
       "      <td>276</td>\n",
       "      <td>1090</td>\n",
       "      <td>1</td>\n",
       "      <td>874795795</td>\n",
       "    </tr>\n",
       "    <tr>\n",
       "      <th>99998</th>\n",
       "      <td>13</td>\n",
       "      <td>225</td>\n",
       "      <td>2</td>\n",
       "      <td>882399156</td>\n",
       "    </tr>\n",
       "    <tr>\n",
       "      <th>99999</th>\n",
       "      <td>12</td>\n",
       "      <td>203</td>\n",
       "      <td>3</td>\n",
       "      <td>879959583</td>\n",
       "    </tr>\n",
       "  </tbody>\n",
       "</table>\n",
       "</div>"
      ],
      "text/plain": [
       "       user_id  movie_id  rating  timestamp\n",
       "99995      880       476       3  880175444\n",
       "99996      716       204       5  879795543\n",
       "99997      276      1090       1  874795795\n",
       "99998       13       225       2  882399156\n",
       "99999       12       203       3  879959583"
      ]
     },
     "execution_count": 191,
     "metadata": {},
     "output_type": "execute_result"
    }
   ],
   "source": [
    "movies.tail(5)"
   ]
  },
  {
   "cell_type": "markdown",
   "metadata": {
    "slideshow": {
     "slide_type": "slide"
    }
   },
   "source": [
    "## $$\\textbf{Get info about the loaded data}$$\n",
    "<hr>\n",
    "<br> "
   ]
  },
  {
   "cell_type": "code",
   "execution_count": 192,
   "metadata": {
    "slideshow": {
     "slide_type": "fragment"
    }
   },
   "outputs": [
    {
     "name": "stdout",
     "output_type": "stream",
     "text": [
      "<class 'pandas.core.frame.DataFrame'>\n",
      "RangeIndex: 100000 entries, 0 to 99999\n",
      "Data columns (total 4 columns):\n",
      " #   Column     Non-Null Count   Dtype\n",
      "---  ------     --------------   -----\n",
      " 0   user_id    100000 non-null  int64\n",
      " 1   movie_id   100000 non-null  int64\n",
      " 2   rating     100000 non-null  int64\n",
      " 3   timestamp  100000 non-null  int64\n",
      "dtypes: int64(4)\n",
      "memory usage: 3.1 MB\n"
     ]
    }
   ],
   "source": [
    "movies.info()"
   ]
  },
  {
   "cell_type": "markdown",
   "metadata": {
    "slideshow": {
     "slide_type": "slide"
    }
   },
   "source": [
    "## $$\\textbf{Get statistics}$$\n",
    "<hr>\n",
    "<br> "
   ]
  },
  {
   "cell_type": "code",
   "execution_count": 193,
   "metadata": {
    "slideshow": {
     "slide_type": "fragment"
    }
   },
   "outputs": [
    {
     "data": {
      "text/html": [
       "<div>\n",
       "<style scoped>\n",
       "    .dataframe tbody tr th:only-of-type {\n",
       "        vertical-align: middle;\n",
       "    }\n",
       "\n",
       "    .dataframe tbody tr th {\n",
       "        vertical-align: top;\n",
       "    }\n",
       "\n",
       "    .dataframe thead th {\n",
       "        text-align: right;\n",
       "    }\n",
       "</style>\n",
       "<table border=\"1\" class=\"dataframe\">\n",
       "  <thead>\n",
       "    <tr style=\"text-align: right;\">\n",
       "      <th></th>\n",
       "      <th>user_id</th>\n",
       "      <th>movie_id</th>\n",
       "      <th>rating</th>\n",
       "      <th>timestamp</th>\n",
       "    </tr>\n",
       "  </thead>\n",
       "  <tbody>\n",
       "    <tr>\n",
       "      <th>count</th>\n",
       "      <td>100000.00000</td>\n",
       "      <td>100000.000000</td>\n",
       "      <td>100000.000000</td>\n",
       "      <td>1.000000e+05</td>\n",
       "    </tr>\n",
       "    <tr>\n",
       "      <th>mean</th>\n",
       "      <td>462.48475</td>\n",
       "      <td>425.530130</td>\n",
       "      <td>3.529860</td>\n",
       "      <td>8.835289e+08</td>\n",
       "    </tr>\n",
       "    <tr>\n",
       "      <th>std</th>\n",
       "      <td>266.61442</td>\n",
       "      <td>330.798356</td>\n",
       "      <td>1.125674</td>\n",
       "      <td>5.343856e+06</td>\n",
       "    </tr>\n",
       "    <tr>\n",
       "      <th>min</th>\n",
       "      <td>1.00000</td>\n",
       "      <td>1.000000</td>\n",
       "      <td>1.000000</td>\n",
       "      <td>8.747247e+08</td>\n",
       "    </tr>\n",
       "    <tr>\n",
       "      <th>25%</th>\n",
       "      <td>254.00000</td>\n",
       "      <td>175.000000</td>\n",
       "      <td>3.000000</td>\n",
       "      <td>8.794487e+08</td>\n",
       "    </tr>\n",
       "    <tr>\n",
       "      <th>50%</th>\n",
       "      <td>447.00000</td>\n",
       "      <td>322.000000</td>\n",
       "      <td>4.000000</td>\n",
       "      <td>8.828269e+08</td>\n",
       "    </tr>\n",
       "    <tr>\n",
       "      <th>75%</th>\n",
       "      <td>682.00000</td>\n",
       "      <td>631.000000</td>\n",
       "      <td>4.000000</td>\n",
       "      <td>8.882600e+08</td>\n",
       "    </tr>\n",
       "    <tr>\n",
       "      <th>max</th>\n",
       "      <td>943.00000</td>\n",
       "      <td>1682.000000</td>\n",
       "      <td>5.000000</td>\n",
       "      <td>8.932866e+08</td>\n",
       "    </tr>\n",
       "  </tbody>\n",
       "</table>\n",
       "</div>"
      ],
      "text/plain": [
       "            user_id       movie_id         rating     timestamp\n",
       "count  100000.00000  100000.000000  100000.000000  1.000000e+05\n",
       "mean      462.48475     425.530130       3.529860  8.835289e+08\n",
       "std       266.61442     330.798356       1.125674  5.343856e+06\n",
       "min         1.00000       1.000000       1.000000  8.747247e+08\n",
       "25%       254.00000     175.000000       3.000000  8.794487e+08\n",
       "50%       447.00000     322.000000       4.000000  8.828269e+08\n",
       "75%       682.00000     631.000000       4.000000  8.882600e+08\n",
       "max       943.00000    1682.000000       5.000000  8.932866e+08"
      ]
     },
     "execution_count": 193,
     "metadata": {},
     "output_type": "execute_result"
    }
   ],
   "source": [
    "# get general statistics\n",
    "\n",
    "movies.describe()"
   ]
  },
  {
   "cell_type": "code",
   "execution_count": 194,
   "metadata": {
    "slideshow": {
     "slide_type": "fragment"
    }
   },
   "outputs": [
    {
     "data": {
      "text/plain": [
       "4    34174\n",
       "3    27145\n",
       "5    21201\n",
       "2    11370\n",
       "1     6110\n",
       "Name: rating, dtype: int64"
      ]
     },
     "execution_count": 194,
     "metadata": {},
     "output_type": "execute_result"
    }
   ],
   "source": [
    "# summary of the values over one specific columns\n",
    "\n",
    "movies.rating.value_counts()"
   ]
  },
  {
   "cell_type": "markdown",
   "metadata": {
    "slideshow": {
     "slide_type": "slide"
    }
   },
   "source": [
    "## $$\\textbf{Retrieve the specified rows}$$\n",
    "<hr>\n",
    "<br> "
   ]
  },
  {
   "cell_type": "code",
   "execution_count": 195,
   "metadata": {
    "slideshow": {
     "slide_type": "fragment"
    }
   },
   "outputs": [
    {
     "data": {
      "text/html": [
       "<div>\n",
       "<style scoped>\n",
       "    .dataframe tbody tr th:only-of-type {\n",
       "        vertical-align: middle;\n",
       "    }\n",
       "\n",
       "    .dataframe tbody tr th {\n",
       "        vertical-align: top;\n",
       "    }\n",
       "\n",
       "    .dataframe thead th {\n",
       "        text-align: right;\n",
       "    }\n",
       "</style>\n",
       "<table border=\"1\" class=\"dataframe\">\n",
       "  <thead>\n",
       "    <tr style=\"text-align: right;\">\n",
       "      <th></th>\n",
       "      <th>user_id</th>\n",
       "      <th>movie_id</th>\n",
       "      <th>rating</th>\n",
       "      <th>timestamp</th>\n",
       "    </tr>\n",
       "  </thead>\n",
       "  <tbody>\n",
       "    <tr>\n",
       "      <th>10</th>\n",
       "      <td>62</td>\n",
       "      <td>257</td>\n",
       "      <td>2</td>\n",
       "      <td>879372434</td>\n",
       "    </tr>\n",
       "    <tr>\n",
       "      <th>11</th>\n",
       "      <td>286</td>\n",
       "      <td>1014</td>\n",
       "      <td>5</td>\n",
       "      <td>879781125</td>\n",
       "    </tr>\n",
       "    <tr>\n",
       "      <th>12</th>\n",
       "      <td>200</td>\n",
       "      <td>222</td>\n",
       "      <td>5</td>\n",
       "      <td>876042340</td>\n",
       "    </tr>\n",
       "    <tr>\n",
       "      <th>13</th>\n",
       "      <td>210</td>\n",
       "      <td>40</td>\n",
       "      <td>3</td>\n",
       "      <td>891035994</td>\n",
       "    </tr>\n",
       "    <tr>\n",
       "      <th>14</th>\n",
       "      <td>224</td>\n",
       "      <td>29</td>\n",
       "      <td>3</td>\n",
       "      <td>888104457</td>\n",
       "    </tr>\n",
       "    <tr>\n",
       "      <th>15</th>\n",
       "      <td>303</td>\n",
       "      <td>785</td>\n",
       "      <td>3</td>\n",
       "      <td>879485318</td>\n",
       "    </tr>\n",
       "    <tr>\n",
       "      <th>16</th>\n",
       "      <td>122</td>\n",
       "      <td>387</td>\n",
       "      <td>5</td>\n",
       "      <td>879270459</td>\n",
       "    </tr>\n",
       "    <tr>\n",
       "      <th>17</th>\n",
       "      <td>194</td>\n",
       "      <td>274</td>\n",
       "      <td>2</td>\n",
       "      <td>879539794</td>\n",
       "    </tr>\n",
       "    <tr>\n",
       "      <th>18</th>\n",
       "      <td>291</td>\n",
       "      <td>1042</td>\n",
       "      <td>4</td>\n",
       "      <td>874834944</td>\n",
       "    </tr>\n",
       "    <tr>\n",
       "      <th>19</th>\n",
       "      <td>234</td>\n",
       "      <td>1184</td>\n",
       "      <td>2</td>\n",
       "      <td>892079237</td>\n",
       "    </tr>\n",
       "    <tr>\n",
       "      <th>20</th>\n",
       "      <td>119</td>\n",
       "      <td>392</td>\n",
       "      <td>4</td>\n",
       "      <td>886176814</td>\n",
       "    </tr>\n",
       "  </tbody>\n",
       "</table>\n",
       "</div>"
      ],
      "text/plain": [
       "    user_id  movie_id  rating  timestamp\n",
       "10       62       257       2  879372434\n",
       "11      286      1014       5  879781125\n",
       "12      200       222       5  876042340\n",
       "13      210        40       3  891035994\n",
       "14      224        29       3  888104457\n",
       "15      303       785       3  879485318\n",
       "16      122       387       5  879270459\n",
       "17      194       274       2  879539794\n",
       "18      291      1042       4  874834944\n",
       "19      234      1184       2  892079237\n",
       "20      119       392       4  886176814"
      ]
     },
     "execution_count": 195,
     "metadata": {},
     "output_type": "execute_result"
    }
   ],
   "source": [
    "movies.loc[10:20]"
   ]
  },
  {
   "cell_type": "code",
   "execution_count": 196,
   "metadata": {
    "slideshow": {
     "slide_type": "fragment"
    }
   },
   "outputs": [
    {
     "data": {
      "text/html": [
       "<div>\n",
       "<style scoped>\n",
       "    .dataframe tbody tr th:only-of-type {\n",
       "        vertical-align: middle;\n",
       "    }\n",
       "\n",
       "    .dataframe tbody tr th {\n",
       "        vertical-align: top;\n",
       "    }\n",
       "\n",
       "    .dataframe thead th {\n",
       "        text-align: right;\n",
       "    }\n",
       "</style>\n",
       "<table border=\"1\" class=\"dataframe\">\n",
       "  <thead>\n",
       "    <tr style=\"text-align: right;\">\n",
       "      <th></th>\n",
       "      <th>user_id</th>\n",
       "      <th>movie_id</th>\n",
       "      <th>rating</th>\n",
       "      <th>timestamp</th>\n",
       "    </tr>\n",
       "  </thead>\n",
       "  <tbody>\n",
       "    <tr>\n",
       "      <th>123</th>\n",
       "      <td>44</td>\n",
       "      <td>195</td>\n",
       "      <td>5</td>\n",
       "      <td>878347874</td>\n",
       "    </tr>\n",
       "    <tr>\n",
       "      <th>242</th>\n",
       "      <td>286</td>\n",
       "      <td>171</td>\n",
       "      <td>4</td>\n",
       "      <td>877531791</td>\n",
       "    </tr>\n",
       "    <tr>\n",
       "      <th>153</th>\n",
       "      <td>269</td>\n",
       "      <td>504</td>\n",
       "      <td>4</td>\n",
       "      <td>891449922</td>\n",
       "    </tr>\n",
       "  </tbody>\n",
       "</table>\n",
       "</div>"
      ],
      "text/plain": [
       "     user_id  movie_id  rating  timestamp\n",
       "123       44       195       5  878347874\n",
       "242      286       171       4  877531791\n",
       "153      269       504       4  891449922"
      ]
     },
     "execution_count": 196,
     "metadata": {},
     "output_type": "execute_result"
    }
   ],
   "source": [
    "movies.loc[[123, 242, 153]]"
   ]
  },
  {
   "cell_type": "markdown",
   "metadata": {
    "slideshow": {
     "slide_type": "slide"
    }
   },
   "source": [
    "## $$\\textbf{Filtering}$$\n",
    "<hr>\n",
    "<br> "
   ]
  },
  {
   "cell_type": "code",
   "execution_count": 197,
   "metadata": {
    "slideshow": {
     "slide_type": "fragment"
    }
   },
   "outputs": [
    {
     "data": {
      "text/plain": [
       "55375"
      ]
     },
     "execution_count": 197,
     "metadata": {},
     "output_type": "execute_result"
    }
   ],
   "source": [
    "high_ratings = movies[movies.rating > 3] # equiv. by a key movies[movies['rating'] > 3] \n",
    "len(high_ratings)"
   ]
  },
  {
   "cell_type": "code",
   "execution_count": 198,
   "metadata": {
    "slideshow": {
     "slide_type": "fragment"
    }
   },
   "outputs": [
    {
     "data": {
      "text/html": [
       "<div>\n",
       "<style scoped>\n",
       "    .dataframe tbody tr th:only-of-type {\n",
       "        vertical-align: middle;\n",
       "    }\n",
       "\n",
       "    .dataframe tbody tr th {\n",
       "        vertical-align: top;\n",
       "    }\n",
       "\n",
       "    .dataframe thead th {\n",
       "        text-align: right;\n",
       "    }\n",
       "</style>\n",
       "<table border=\"1\" class=\"dataframe\">\n",
       "  <thead>\n",
       "    <tr style=\"text-align: right;\">\n",
       "      <th></th>\n",
       "      <th>user_id</th>\n",
       "      <th>movie_id</th>\n",
       "      <th>rating</th>\n",
       "      <th>timestamp</th>\n",
       "    </tr>\n",
       "  </thead>\n",
       "  <tbody>\n",
       "    <tr>\n",
       "      <th>256</th>\n",
       "      <td>250</td>\n",
       "      <td>7</td>\n",
       "      <td>4</td>\n",
       "      <td>878089716</td>\n",
       "    </tr>\n",
       "    <tr>\n",
       "      <th>606</th>\n",
       "      <td>10</td>\n",
       "      <td>7</td>\n",
       "      <td>4</td>\n",
       "      <td>877892210</td>\n",
       "    </tr>\n",
       "    <tr>\n",
       "      <th>1597</th>\n",
       "      <td>66</td>\n",
       "      <td>7</td>\n",
       "      <td>3</td>\n",
       "      <td>883601355</td>\n",
       "    </tr>\n",
       "  </tbody>\n",
       "</table>\n",
       "</div>"
      ],
      "text/plain": [
       "      user_id  movie_id  rating  timestamp\n",
       "256       250         7       4  878089716\n",
       "606        10         7       4  877892210\n",
       "1597       66         7       3  883601355"
      ]
     },
     "execution_count": 198,
     "metadata": {},
     "output_type": "execute_result"
    }
   ],
   "source": [
    "movie_7 = movies[movies.movie_id == 7]\n",
    "movie_7.head(3)"
   ]
  },
  {
   "cell_type": "code",
   "execution_count": 200,
   "metadata": {
    "slideshow": {
     "slide_type": "fragment"
    }
   },
   "outputs": [
    {
     "data": {
      "text/plain": [
       "3.798469387755102"
      ]
     },
     "execution_count": 200,
     "metadata": {},
     "output_type": "execute_result"
    }
   ],
   "source": [
    "movie_7.rating.mean()"
   ]
  },
  {
   "cell_type": "markdown",
   "metadata": {
    "slideshow": {
     "slide_type": "slide"
    }
   },
   "source": [
    "## $$\\textbf{Sorting}$$\n",
    "<hr>\n",
    "<br> "
   ]
  },
  {
   "cell_type": "code",
   "execution_count": 201,
   "metadata": {
    "slideshow": {
     "slide_type": "fragment"
    }
   },
   "outputs": [
    {
     "data": {
      "text/html": [
       "<div>\n",
       "<style scoped>\n",
       "    .dataframe tbody tr th:only-of-type {\n",
       "        vertical-align: middle;\n",
       "    }\n",
       "\n",
       "    .dataframe tbody tr th {\n",
       "        vertical-align: top;\n",
       "    }\n",
       "\n",
       "    .dataframe thead th {\n",
       "        text-align: right;\n",
       "    }\n",
       "</style>\n",
       "<table border=\"1\" class=\"dataframe\">\n",
       "  <thead>\n",
       "    <tr style=\"text-align: right;\">\n",
       "      <th></th>\n",
       "      <th>user_id</th>\n",
       "      <th>movie_id</th>\n",
       "      <th>rating</th>\n",
       "      <th>timestamp</th>\n",
       "    </tr>\n",
       "  </thead>\n",
       "  <tbody>\n",
       "    <tr>\n",
       "      <th>28336</th>\n",
       "      <td>64</td>\n",
       "      <td>183</td>\n",
       "      <td>5</td>\n",
       "      <td>889737914</td>\n",
       "    </tr>\n",
       "    <tr>\n",
       "      <th>16000</th>\n",
       "      <td>213</td>\n",
       "      <td>121</td>\n",
       "      <td>5</td>\n",
       "      <td>878870940</td>\n",
       "    </tr>\n",
       "    <tr>\n",
       "      <th>28426</th>\n",
       "      <td>286</td>\n",
       "      <td>707</td>\n",
       "      <td>5</td>\n",
       "      <td>877531975</td>\n",
       "    </tr>\n",
       "    <tr>\n",
       "      <th>38655</th>\n",
       "      <td>94</td>\n",
       "      <td>518</td>\n",
       "      <td>5</td>\n",
       "      <td>891720950</td>\n",
       "    </tr>\n",
       "    <tr>\n",
       "      <th>16022</th>\n",
       "      <td>108</td>\n",
       "      <td>10</td>\n",
       "      <td>5</td>\n",
       "      <td>879879834</td>\n",
       "    </tr>\n",
       "    <tr>\n",
       "      <th>...</th>\n",
       "      <td>...</td>\n",
       "      <td>...</td>\n",
       "      <td>...</td>\n",
       "      <td>...</td>\n",
       "    </tr>\n",
       "    <tr>\n",
       "      <th>27329</th>\n",
       "      <td>13</td>\n",
       "      <td>401</td>\n",
       "      <td>1</td>\n",
       "      <td>882141841</td>\n",
       "    </tr>\n",
       "    <tr>\n",
       "      <th>27316</th>\n",
       "      <td>405</td>\n",
       "      <td>788</td>\n",
       "      <td>1</td>\n",
       "      <td>885548275</td>\n",
       "    </tr>\n",
       "    <tr>\n",
       "      <th>27307</th>\n",
       "      <td>279</td>\n",
       "      <td>1266</td>\n",
       "      <td>1</td>\n",
       "      <td>875308843</td>\n",
       "    </tr>\n",
       "    <tr>\n",
       "      <th>85465</th>\n",
       "      <td>68</td>\n",
       "      <td>926</td>\n",
       "      <td>1</td>\n",
       "      <td>876974298</td>\n",
       "    </tr>\n",
       "    <tr>\n",
       "      <th>32874</th>\n",
       "      <td>246</td>\n",
       "      <td>981</td>\n",
       "      <td>1</td>\n",
       "      <td>884924765</td>\n",
       "    </tr>\n",
       "  </tbody>\n",
       "</table>\n",
       "<p>100000 rows × 4 columns</p>\n",
       "</div>"
      ],
      "text/plain": [
       "       user_id  movie_id  rating  timestamp\n",
       "28336       64       183       5  889737914\n",
       "16000      213       121       5  878870940\n",
       "28426      286       707       5  877531975\n",
       "38655       94       518       5  891720950\n",
       "16022      108        10       5  879879834\n",
       "...        ...       ...     ...        ...\n",
       "27329       13       401       1  882141841\n",
       "27316      405       788       1  885548275\n",
       "27307      279      1266       1  875308843\n",
       "85465       68       926       1  876974298\n",
       "32874      246       981       1  884924765\n",
       "\n",
       "[100000 rows x 4 columns]"
      ]
     },
     "execution_count": 201,
     "metadata": {},
     "output_type": "execute_result"
    }
   ],
   "source": [
    "movies.sort_values('rating', ascending=False)"
   ]
  },
  {
   "cell_type": "markdown",
   "metadata": {
    "slideshow": {
     "slide_type": "slide"
    }
   },
   "source": [
    "## $$\\textbf{Grouping}$$\n",
    "<hr>\n",
    "<br> "
   ]
  },
  {
   "cell_type": "code",
   "execution_count": 81,
   "metadata": {
    "slideshow": {
     "slide_type": "fragment"
    }
   },
   "outputs": [
    {
     "data": {
      "text/html": [
       "<div>\n",
       "<style scoped>\n",
       "    .dataframe tbody tr th:only-of-type {\n",
       "        vertical-align: middle;\n",
       "    }\n",
       "\n",
       "    .dataframe tbody tr th {\n",
       "        vertical-align: top;\n",
       "    }\n",
       "\n",
       "    .dataframe thead th {\n",
       "        text-align: right;\n",
       "    }\n",
       "</style>\n",
       "<table border=\"1\" class=\"dataframe\">\n",
       "  <thead>\n",
       "    <tr style=\"text-align: right;\">\n",
       "      <th></th>\n",
       "      <th>user_id</th>\n",
       "      <th>movie_id</th>\n",
       "      <th>timestamp</th>\n",
       "    </tr>\n",
       "    <tr>\n",
       "      <th>rating</th>\n",
       "      <th></th>\n",
       "      <th></th>\n",
       "      <th></th>\n",
       "    </tr>\n",
       "  </thead>\n",
       "  <tbody>\n",
       "    <tr>\n",
       "      <td>1</td>\n",
       "      <td>6110</td>\n",
       "      <td>6110</td>\n",
       "      <td>6110</td>\n",
       "    </tr>\n",
       "    <tr>\n",
       "      <td>2</td>\n",
       "      <td>11370</td>\n",
       "      <td>11370</td>\n",
       "      <td>11370</td>\n",
       "    </tr>\n",
       "    <tr>\n",
       "      <td>3</td>\n",
       "      <td>27145</td>\n",
       "      <td>27145</td>\n",
       "      <td>27145</td>\n",
       "    </tr>\n",
       "    <tr>\n",
       "      <td>4</td>\n",
       "      <td>34174</td>\n",
       "      <td>34174</td>\n",
       "      <td>34174</td>\n",
       "    </tr>\n",
       "    <tr>\n",
       "      <td>5</td>\n",
       "      <td>21201</td>\n",
       "      <td>21201</td>\n",
       "      <td>21201</td>\n",
       "    </tr>\n",
       "  </tbody>\n",
       "</table>\n",
       "</div>"
      ],
      "text/plain": [
       "        user_id  movie_id  timestamp\n",
       "rating                              \n",
       "1          6110      6110       6110\n",
       "2         11370     11370      11370\n",
       "3         27145     27145      27145\n",
       "4         34174     34174      34174\n",
       "5         21201     21201      21201"
      ]
     },
     "execution_count": 81,
     "metadata": {},
     "output_type": "execute_result"
    }
   ],
   "source": [
    "r_counts = movies.groupby('rating').count()\n",
    "r_counts"
   ]
  },
  {
   "cell_type": "code",
   "execution_count": 82,
   "metadata": {
    "slideshow": {
     "slide_type": "fragment"
    }
   },
   "outputs": [
    {
     "data": {
      "text/html": [
       "<div>\n",
       "<style scoped>\n",
       "    .dataframe tbody tr th:only-of-type {\n",
       "        vertical-align: middle;\n",
       "    }\n",
       "\n",
       "    .dataframe tbody tr th {\n",
       "        vertical-align: top;\n",
       "    }\n",
       "\n",
       "    .dataframe thead th {\n",
       "        text-align: right;\n",
       "    }\n",
       "</style>\n",
       "<table border=\"1\" class=\"dataframe\">\n",
       "  <thead>\n",
       "    <tr style=\"text-align: right;\">\n",
       "      <th></th>\n",
       "      <th>movie_id</th>\n",
       "      <th>user_id</th>\n",
       "    </tr>\n",
       "    <tr>\n",
       "      <th>rating</th>\n",
       "      <th></th>\n",
       "      <th></th>\n",
       "    </tr>\n",
       "  </thead>\n",
       "  <tbody>\n",
       "    <tr>\n",
       "      <td>1</td>\n",
       "      <td>6110</td>\n",
       "      <td>6110</td>\n",
       "    </tr>\n",
       "    <tr>\n",
       "      <td>2</td>\n",
       "      <td>11370</td>\n",
       "      <td>11370</td>\n",
       "    </tr>\n",
       "    <tr>\n",
       "      <td>3</td>\n",
       "      <td>27145</td>\n",
       "      <td>27145</td>\n",
       "    </tr>\n",
       "    <tr>\n",
       "      <td>4</td>\n",
       "      <td>34174</td>\n",
       "      <td>34174</td>\n",
       "    </tr>\n",
       "    <tr>\n",
       "      <td>5</td>\n",
       "      <td>21201</td>\n",
       "      <td>21201</td>\n",
       "    </tr>\n",
       "  </tbody>\n",
       "</table>\n",
       "</div>"
      ],
      "text/plain": [
       "        movie_id  user_id\n",
       "rating                   \n",
       "1           6110     6110\n",
       "2          11370    11370\n",
       "3          27145    27145\n",
       "4          34174    34174\n",
       "5          21201    21201"
      ]
     },
     "execution_count": 82,
     "metadata": {},
     "output_type": "execute_result"
    }
   ],
   "source": [
    "r_counts[['movie_id', 'user_id']]"
   ]
  },
  {
   "cell_type": "markdown",
   "metadata": {
    "slideshow": {
     "slide_type": "slide"
    }
   },
   "source": [
    "## $$\\textbf{Google colab}$$\n",
    "<hr>\n",
    "<br> \n",
    "\n",
    "<center>\n",
    "    <img src='./images/colab.png' width=500>    \n",
    "</center>\n",
    "\n",
    "* $\\text{Please see the } pyml.py \\text{ example file.}$"
   ]
  },
  {
   "cell_type": "markdown",
   "metadata": {
    "slideshow": {
     "slide_type": "slide"
    }
   },
   "source": [
    "## $$\\textbf{Attempt of deception during the Exam}$$\n",
    "<hr>\n",
    "\n",
    "<br><br>\n",
    "\n",
    "$$\\textbf{Note: } \\text{all attempts will be imidiately reported to the exam registration office.}$$\n",
    " "
   ]
  },
  {
   "cell_type": "markdown",
   "metadata": {
    "slideshow": {
     "slide_type": "slide"
    }
   },
   "source": [
    "# $$\\textbf{Thank you for your attention !}$$"
   ]
  }
 ],
 "metadata": {
  "celltoolbar": "Slideshow",
  "kernelspec": {
   "display_name": "Python 3",
   "language": "python",
   "name": "python3"
  },
  "language_info": {
   "codemirror_mode": {
    "name": "ipython",
    "version": 3
   },
   "file_extension": ".py",
   "mimetype": "text/x-python",
   "name": "python",
   "nbconvert_exporter": "python",
   "pygments_lexer": "ipython3",
   "version": "3.8.3"
  }
 },
 "nbformat": 4,
 "nbformat_minor": 2
}

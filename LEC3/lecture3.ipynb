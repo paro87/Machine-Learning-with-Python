{
 "cells": [
  {
   "cell_type": "code",
   "execution_count": 1,
   "metadata": {
    "slideshow": {
     "slide_type": "skip"
    }
   },
   "outputs": [
    {
     "data": {
      "text/html": [
       "\n",
       "<style>\n",
       ".output_png {\n",
       "        display: table-cell;\n",
       "        text-align: center;\n",
       "        vertical-align: middle;\n",
       "}\n",
       "</style>\n"
      ],
      "text/plain": [
       "<IPython.core.display.HTML object>"
      ]
     },
     "execution_count": 1,
     "metadata": {},
     "output_type": "execute_result"
    }
   ],
   "source": [
    "from IPython.core.display import HTML\n",
    "HTML(\"\"\"\n",
    "<style>\n",
    ".output_png {\n",
    "        display: table-cell;\n",
    "        text-align: center;\n",
    "        vertical-align: middle;\n",
    "}\n",
    "</style>\n",
    "\"\"\")"
   ]
  },
  {
   "cell_type": "markdown",
   "metadata": {
    "slideshow": {
     "slide_type": "slide"
    }
   },
   "source": [
    "# $$\\textbf{Python Programming for Machine Learning} $$ \n",
    "\n",
    "#### $$\\text{SoSe 2021}$$\n",
    "\n",
    "## $$\\text{Lecture 3: Analyzing a dataset, Randomness, Linear Algebra} $$\n",
    "\n",
    "#### $$\\text{Sergej Dogadov, Philine Thalia Görzig, Panagiotis Karagianis}$$\n",
    "\n",
    "<center>\n",
    "<img src='images/pyt.png' width=250>"
   ]
  },
  {
   "cell_type": "markdown",
   "metadata": {
    "slideshow": {
     "slide_type": "slide"
    }
   },
   "source": [
    "# $$ \\textbf{Analyzing a Dataset}$$\n",
    "<hr> \n",
    "\n",
    "* $\\text{Let's load the Boston Housing dataset}$ \n",
    "\n",
    "$\\text{(506 examples composed of 13 features each with prices) from } \\textbf{sklearn} \\text{ package}.$\n",
    "<br><br>\n",
    "\n",
    "<center>\n",
    "    <img src='./images/sklearn.png' width='500'>"
   ]
  },
  {
   "cell_type": "code",
   "execution_count": 2,
   "metadata": {
    "slideshow": {
     "slide_type": "slide"
    }
   },
   "outputs": [
    {
     "name": "stdout",
     "output_type": "stream",
     "text": [
      "dict_keys(['data', 'target', 'feature_names', 'DESCR', 'filename'])\n"
     ]
    }
   ],
   "source": [
    "import numpy as np\n",
    "\n",
    "# conda install -c anaconda scikit-learn\n",
    "from sklearn.datasets import load_boston\n",
    "\n",
    "# Load Boston Housing dataset\n",
    "boston = load_boston()\n",
    "print(boston.keys())"
   ]
  },
  {
   "cell_type": "code",
   "execution_count": 3,
   "metadata": {
    "slideshow": {
     "slide_type": "fragment"
    }
   },
   "outputs": [
    {
     "name": "stdout",
     "output_type": "stream",
     "text": [
      "(506, 13)\n"
     ]
    },
    {
     "data": {
      "text/plain": [
       "(array([24. , 21.6, 34.7, 33.4, 36.2, 28.7, 22.9, 27.1, 16.5, 18.9]), 506)"
      ]
     },
     "execution_count": 3,
     "metadata": {},
     "output_type": "execute_result"
    }
   ],
   "source": [
    "X = boston['data'] # collect the data\n",
    "print(X.shape)\n",
    "\n",
    "y = boston['target']\n",
    "y[:10], len(y)"
   ]
  },
  {
   "cell_type": "code",
   "execution_count": 4,
   "metadata": {
    "slideshow": {
     "slide_type": "fragment"
    }
   },
   "outputs": [
    {
     "data": {
      "text/plain": [
       "array(['CRIM', 'ZN', 'INDUS', 'CHAS', 'NOX', 'RM', 'AGE', 'DIS', 'RAD',\n",
       "       'TAX', 'PTRATIO', 'B', 'LSTAT'], dtype='<U7')"
      ]
     },
     "execution_count": 4,
     "metadata": {},
     "output_type": "execute_result"
    }
   ],
   "source": [
    "features = boston['feature_names']\n",
    "features"
   ]
  },
  {
   "cell_type": "code",
   "execution_count": 5,
   "metadata": {
    "scrolled": true,
    "slideshow": {
     "slide_type": "fragment"
    }
   },
   "outputs": [
    {
     "name": "stdout",
     "output_type": "stream",
     "text": [
      ".. _boston_dataset:\n",
      "\n",
      "Boston house prices dataset\n",
      "---------------------------\n",
      "\n",
      "**Data Set Characteristics:**  \n",
      "\n",
      "    :Number of Instances: 506 \n",
      "\n",
      "    :Number of Attributes: 13 numeric/categorical predictive. Median Value (attribute 14) is usually the target.\n",
      "\n",
      "    :Attribute Information (in order):\n",
      "        - CRIM     per capita crime rate by town\n",
      "        - ZN       proportion of residential land zoned for lots over 25,000 sq.ft.\n",
      "        - INDUS    proportion of non-retail business acres per town\n",
      "        - CHAS     Charles River dummy variable (= 1 if tract bounds river; 0 otherwise)\n",
      "        - NOX      nitric oxides concentration (parts per 10 million)\n",
      "        - RM       average number of rooms per dwelling\n",
      "        - AGE      proportion of owner-occupied units built prior to 1940\n",
      "        - DIS      weighted distances to five Boston employment centres\n",
      "        - RAD      index of accessibility to radial highways\n",
      "        - TAX      full-value property-tax rate per $10,000\n",
      "        - PTRATIO  pupil-teacher ratio by town\n",
      "        - B        1000(Bk - 0.63)^2 where Bk is the proportion of blacks by town\n",
      "        - LSTAT    % lower status of the population\n",
      "        - MEDV     Median value of owner-occupied homes in $1000's\n",
      "\n",
      "    :Missing Attribute Values: None\n",
      "\n",
      "    :Creator: Harrison, D. and Rubinfeld, D.L.\n",
      "\n",
      "This is a copy of UCI ML housing dataset.\n",
      "https://archive.ics.uci.edu/ml/machine-learning-databases/housing/\n",
      "\n",
      "\n",
      "This dataset was taken from the StatLib library which is maintained at Carnegie Mellon University.\n",
      "\n",
      "The Boston house-price data of Harrison, D. and Rubinfeld, D.L. 'Hedonic\n",
      "prices and the demand for clean air', J. Environ. Economics & Management,\n",
      "vol.5, 81-102, 1978.   Used in Belsley, Kuh & Welsch, 'Regression diagnostics\n",
      "...', Wiley, 1980.   N.B. Various transformations are used in the table on\n",
      "pages 244-261 of the latter.\n",
      "\n",
      "The Boston house-price data has been used in many machine learning papers that address regression\n",
      "problems.   \n",
      "     \n",
      ".. topic:: References\n",
      "\n",
      "   - Belsley, Kuh & Welsch, 'Regression diagnostics: Identifying Influential Data and Sources of Collinearity', Wiley, 1980. 244-261.\n",
      "   - Quinlan,R. (1993). Combining Instance-Based and Model-Based Learning. In Proceedings on the Tenth International Conference of Machine Learning, 236-243, University of Massachusetts, Amherst. Morgan Kaufmann.\n",
      "\n"
     ]
    }
   ],
   "source": [
    "descriptions = boston['DESCR']\n",
    "print(descriptions)"
   ]
  },
  {
   "cell_type": "markdown",
   "metadata": {
    "slideshow": {
     "slide_type": "slide"
    }
   },
   "source": [
    "## $$ \\textbf{Dataset statistics}$$\n",
    "<hr> "
   ]
  },
  {
   "cell_type": "code",
   "execution_count": 6,
   "metadata": {
    "slideshow": {
     "slide_type": "fragment"
    }
   },
   "outputs": [
    {
     "name": "stdout",
     "output_type": "stream",
     "text": [
      "Global mean: 70.074\n",
      "CRIM: 3.614\n"
     ]
    }
   ],
   "source": [
    "# Global dataset mean feature value\n",
    "print(f\"Global mean: {X.mean():0.3f}\")\n",
    "\n",
    "# Mean of first feature (CRIM)\n",
    "print(f\"CRIM: {X[:, 0].mean():0.3f}\" )"
   ]
  },
  {
   "cell_type": "code",
   "execution_count": 7,
   "metadata": {
    "scrolled": true,
    "slideshow": {
     "slide_type": "fragment"
    }
   },
   "outputs": [
    {
     "name": "stdout",
     "output_type": "stream",
     "text": [
      "CRIM:\t mu 3.614\t sigma 8.6\n",
      "ZN:\t mu 11.364\t sigma 23.3\n",
      "INDUS:\t mu 11.137\t sigma 6.9\n",
      "CHAS:\t mu 0.069\t sigma 0.3\n",
      "NOX:\t mu 0.555\t sigma 0.1\n",
      "RM:\t mu 6.285\t sigma 0.7\n",
      "AGE:\t mu 68.575\t sigma 28.1\n",
      "DIS:\t mu 3.795\t sigma 2.1\n",
      "RAD:\t mu 9.549\t sigma 8.7\n",
      "TAX:\t mu 408.237\t sigma 168.4\n",
      "PTRATIO:\t mu 18.456\t sigma 2.2\n",
      "B:\t mu 356.674\t sigma 91.2\n",
      "LSTAT:\t mu 12.653\t sigma 7.1\n"
     ]
    }
   ],
   "source": [
    "#Mean of all features over specific axis\n",
    "means = X.mean(axis=0).round(3)\n",
    "stds = X.std(axis=0).round(1)\n",
    "\n",
    "[print(f\"{f}:\\t mu {means[n]}\\t sigma {stds[n]}\" ) for n, f in enumerate(features)];"
   ]
  },
  {
   "cell_type": "code",
   "execution_count": 8,
   "metadata": {
    "slideshow": {
     "slide_type": "fragment"
    }
   },
   "outputs": [
    {
     "name": "stdout",
     "output_type": "stream",
     "text": [
      "Min value: 0.0 at position 3\n",
      "Max value: 711.0 at position 6353\n"
     ]
    }
   ],
   "source": [
    "# Extreme values\n",
    "\n",
    "print(f\"Min value: {X.min()} at position {X.argmin()}\")      \n",
    "print(f\"Max value: {X.max()} at position {X.argmax()}\") "
   ]
  },
  {
   "cell_type": "markdown",
   "metadata": {
    "slideshow": {
     "slide_type": "slide"
    }
   },
   "source": [
    "* $\\text{Retain two interesting features (5 and 12 columns)}$\n",
    "\n",
    "$\\quad \\quad \\quad - \\text{RM ->       average number of rooms per dwelling}$\n",
    "\n",
    "$\\quad \\quad \\quad - \\text{LSTAT ->    % lower status of the population}$"
   ]
  },
  {
   "cell_type": "code",
   "execution_count": 11,
   "metadata": {
    "slideshow": {
     "slide_type": "fragment"
    }
   },
   "outputs": [
    {
     "name": "stdout",
     "output_type": "stream",
     "text": [
      "features: RM LSTAT\n",
      "X.shape:  (506, 2)\n"
     ]
    }
   ],
   "source": [
    "print('features:', features[5], features[12])\n",
    "\n",
    "X_sel = X[:, [5, 12]]\n",
    "print(\"X.shape: \", X_sel.shape)"
   ]
  },
  {
   "cell_type": "markdown",
   "metadata": {
    "slideshow": {
     "slide_type": "slide"
    }
   },
   "source": [
    "###  $$ \\textbf{Scatter-plot of the first two dimensions} $$\n",
    "<hr>"
   ]
  },
  {
   "cell_type": "code",
   "execution_count": 12,
   "metadata": {
    "slideshow": {
     "slide_type": "-"
    }
   },
   "outputs": [],
   "source": [
    "import matplotlib.pyplot as plt\n",
    "%matplotlib inline"
   ]
  },
  {
   "cell_type": "code",
   "execution_count": 22,
   "metadata": {
    "slideshow": {
     "slide_type": "-"
    }
   },
   "outputs": [],
   "source": [
    "def plot_data(X, title='Boston Housing data', features=[0, 1]):\n",
    "\n",
    "    plt.figure(figsize=(12, 12))\n",
    "    \n",
    "    x_vals = X[:, features[0]]\n",
    "    y_vals = X[:, features[1]]\n",
    "    \n",
    "    plt.plot(x_vals, y_vals, 'o', color='b', ms=5, label='data') #  X: (506, 2)\n",
    "\n",
    "    # alternative way with the argument reference\n",
    "\n",
    "    #plt.scatter(*X_sel.T, color='k', marker='.', s=12)\n",
    "    x_mean = x_vals.mean().round(2)\n",
    "    y_mean = y_vals.mean().round(2)\n",
    "    \n",
    "    plt.plot(x_mean, y_mean, 'o', color='g', ms=15, label=f'mean ({x_mean}, {y_mean})', zorder=3)\n",
    "    \n",
    "    x_min, x_max = x_vals.min(), x_vals.max()\n",
    "    y_min, y_max = y_vals.min(), y_vals.max()\n",
    "    \n",
    "    plt.axis([x_min, x_max, y_min, y_max])\n",
    "    plt.plot([x_mean, x_mean], [y_min, y_mean], 'k--')\n",
    "    plt.plot([x_min, x_mean], [y_mean, y_mean], 'k--')\n",
    "    \n",
    "    plt.title(title, fontsize=25)\n",
    "    plt.legend(loc='upper right', fontsize=20)\n",
    "    \n",
    "    # return the plot object\n",
    "    return plt"
   ]
  },
  {
   "cell_type": "code",
   "execution_count": 23,
   "metadata": {
    "slideshow": {
     "slide_type": "slide"
    }
   },
   "outputs": [
    {
     "data": {
      "image/png": "[encoded data removed]",
      "text/plain": [
       "<Figure size 864x864 with 1 Axes>"
      ]
     },
     "metadata": {
      "needs_background": "light"
     },
     "output_type": "display_data"
    }
   ],
   "source": [
    "plot_data(X_sel);\n"
   ]
  },
  {
   "cell_type": "markdown",
   "metadata": {
    "slideshow": {
     "slide_type": "slide"
    }
   },
   "source": [
    "###  $$ \\textbf{Normalize the data} $$\n",
    "<hr>"
   ]
  },
  {
   "cell_type": "code",
   "execution_count": 24,
   "metadata": {
    "slideshow": {
     "slide_type": "fragment"
    }
   },
   "outputs": [],
   "source": [
    "# 506, 2    (2,)\n",
    "X_norm = X_sel - X_sel.mean(axis=0) # center around origin (zero-mean)\n",
    "\n",
    "X_norm /= X_sel.std(axis=0)  # rescale features so that they have standard deviation 1 in each dimension\n",
    "\n",
    "d = X_norm.shape[1]\n",
    "\n",
    "assert np.allclose(X_norm.mean(0), np.zeros(d))\n",
    "assert np.allclose(X_norm.std(0), np.ones(d))\n"
   ]
  },
  {
   "cell_type": "code",
   "execution_count": 25,
   "metadata": {
    "slideshow": {
     "slide_type": "fragment"
    }
   },
   "outputs": [
    {
     "data": {
      "image/png": "[encoded data removed]",
      "text/plain": [
       "<Figure size 864x864 with 1 Axes>"
      ]
     },
     "metadata": {
      "needs_background": "light"
     },
     "output_type": "display_data"
    }
   ],
   "source": [
    "plot_data(X_norm);\n"
   ]
  },
  {
   "cell_type": "markdown",
   "metadata": {
    "slideshow": {
     "slide_type": "slide"
    }
   },
   "source": [
    "###  $$ \\textbf{Computing a distance matrix} $$\n",
    "<hr>"
   ]
  },
  {
   "cell_type": "code",
   "execution_count": 26,
   "metadata": {
    "slideshow": {
     "slide_type": "fragment"
    }
   },
   "outputs": [
    {
     "data": {
      "text/plain": [
       "(506, 506)"
      ]
     },
     "execution_count": 26,
     "metadata": {},
     "output_type": "execute_result"
    }
   ],
   "source": [
    "import scipy.spatial\n",
    "\n",
    "D = scipy.spatial.distance.cdist(X_norm, X_norm, metric='euclidean')\n",
    "D.shape\n"
   ]
  },
  {
   "cell_type": "code",
   "execution_count": 27,
   "metadata": {
    "slideshow": {
     "slide_type": "fragment"
    }
   },
   "outputs": [],
   "source": [
    "# Using broadcasting\n",
    "\n",
    "# (506, 1, 2)  -  (1, 506, 2) -> (506, 506, 2)\n",
    "DD = np.sum( (X_norm[:, None]  - X_norm[None])**2, axis=2)**0.5\n",
    "\n",
    "assert np.allclose(D, DD)\n"
   ]
  },
  {
   "cell_type": "markdown",
   "metadata": {
    "slideshow": {
     "slide_type": "slide"
    }
   },
   "source": [
    "###  $$ \\textbf{ Highlight the neighbouring datapoints} $$\n",
    "<hr>"
   ]
  },
  {
   "cell_type": "code",
   "execution_count": 30,
   "metadata": {
    "slideshow": {
     "slide_type": "fragment"
    }
   },
   "outputs": [],
   "source": [
    "def highlight(X, D, min_dist=0.1, title='Boston Housing data'):\n",
    "    \n",
    "    plt = plot_data(X)\n",
    "    idx = np.where(D < min_dist)\n",
    "\n",
    "    plt.plot(*X.T, 'o', color='b', ms=5)\n",
    "    plt.title(title, fontsize=20)\n",
    "    \n",
    "    for n, (i1, i2) in enumerate(zip(*idx)):\n",
    "        label = 'neighbours' if n == 0 else None\n",
    "        plt.plot([X[i1, 0], X[i2, 0]], [X[i1, 1], X[i2, 1]], color='r', alpha=0.55, label=label, linewidth=3)\n",
    "    \n",
    "    plt.legend(loc='best', fontsize=20)\n",
    "    "
   ]
  },
  {
   "cell_type": "code",
   "execution_count": 31,
   "metadata": {
    "slideshow": {
     "slide_type": "-"
    }
   },
   "outputs": [
    {
     "data": {
      "image/png": "[encoded data removed]",
      "text/plain": [
       "<Figure size 864x864 with 1 Axes>"
      ]
     },
     "metadata": {
      "needs_background": "light"
     },
     "output_type": "display_data"
    }
   ],
   "source": [
    "highlight(X_norm, D)\n"
   ]
  },
  {
   "cell_type": "markdown",
   "metadata": {
    "slideshow": {
     "slide_type": "slide"
    }
   },
   "source": [
    "## $$\\textbf{K-Nearest Neighbours Regression (KNNR)}$$\n",
    "<hr>\n",
    "<br>"
   ]
  },
  {
   "cell_type": "code",
   "execution_count": 36,
   "metadata": {
    "slideshow": {
     "slide_type": "fragment"
    }
   },
   "outputs": [
    {
     "data": {
      "text/plain": [
       "((404, 2), (102, 2))"
      ]
     },
     "execution_count": 36,
     "metadata": {},
     "output_type": "execute_result"
    }
   ],
   "source": [
    "# Splitting into train and test data\n",
    "\n",
    "def split(X, y, tr_ratio=0.8):\n",
    "    sp_idx = int(tr_ratio * len(X_norm)) # 80% train 20% test\n",
    "\n",
    "    X_train = X[:sp_idx]\n",
    "    y_train = y[:sp_idx]\n",
    "\n",
    "    X_test = X_norm[sp_idx:]\n",
    "    y_test = y[sp_idx:]\n",
    "    \n",
    "    return X_train, y_train, X_test, y_test\n",
    "\n",
    "X_train, y_train, X_test, y_test = split(X_norm, y)\n",
    "X_train.shape, X_test.shape"
   ]
  },
  {
   "cell_type": "code",
   "execution_count": 37,
   "metadata": {
    "slideshow": {
     "slide_type": "fragment"
    }
   },
   "outputs": [
    {
     "data": {
      "text/plain": [
       "(array([14.9       , 13.13333333,  9.66666667, 17.36666667, 14.53333333]),\n",
       " array([ 8.5,  5. , 11.9, 27.9, 17.2]))"
      ]
     },
     "execution_count": 37,
     "metadata": {},
     "output_type": "execute_result"
    }
   ],
   "source": [
    "from sklearn.neighbors import KNeighborsRegressor as KNNR\n",
    "\n",
    "knnr = KNNR(n_neighbors=3)\n",
    "knnr.fit(X_train, y_train)\n",
    "\n",
    "y_predict = knnr.predict(X_test)\n",
    "\n",
    "y_predict[:5], y_test[:5] \n"
   ]
  },
  {
   "cell_type": "markdown",
   "metadata": {
    "slideshow": {
     "slide_type": "slide"
    }
   },
   "source": [
    "* $\\text{Compute RMSE for the predicted outputs:}$\n",
    "<hr>\n",
    "\n",
    "$$\\Large{\n",
    "\\text{RMSE} = \\sqrt{\\frac{1}{N}\\sum_{n=1}^N({y}_{\\text{te}_n} - y_{\\text{pred}_n} )^2}\n",
    "}$$\n",
    "<br>"
   ]
  },
  {
   "cell_type": "code",
   "execution_count": 38,
   "metadata": {
    "slideshow": {
     "slide_type": "fragment"
    }
   },
   "outputs": [
    {
     "data": {
      "text/plain": [
       "4.487869149040631"
      ]
     },
     "execution_count": 38,
     "metadata": {},
     "output_type": "execute_result"
    }
   ],
   "source": [
    "# Root mean square error (RMSE)\n",
    "rmse = np.mean((y_test - y_predict)**2)**0.5\n",
    "rmse"
   ]
  },
  {
   "cell_type": "markdown",
   "metadata": {
    "slideshow": {
     "slide_type": "slide"
    }
   },
   "source": [
    "## $$\\textbf{NumPy subpackage for random variables}$$\n",
    "<hr>\n",
    "<br>\n",
    "<center>\n",
    "    <img src='./images/dice.png' width='500'>"
   ]
  },
  {
   "cell_type": "code",
   "execution_count": 39,
   "metadata": {
    "slideshow": {
     "slide_type": "fragment"
    }
   },
   "outputs": [],
   "source": [
    "from numpy import random as rnd \n"
   ]
  },
  {
   "cell_type": "markdown",
   "metadata": {
    "slideshow": {
     "slide_type": "slide"
    }
   },
   "source": [
    "## $$\\textbf{Sampling}$$\n",
    "<hr>\n",
    "<br>"
   ]
  },
  {
   "cell_type": "markdown",
   "metadata": {
    "slideshow": {
     "slide_type": "fragment"
    }
   },
   "source": [
    "* $\\text{Draw random samples from a uniform distribution.}$"
   ]
  },
  {
   "cell_type": "code",
   "execution_count": 40,
   "metadata": {
    "slideshow": {
     "slide_type": "-"
    }
   },
   "outputs": [
    {
     "data": {
      "text/plain": [
       "'Mean: -0.048 Variance: 0.33 Std: 0.57'"
      ]
     },
     "execution_count": 40,
     "metadata": {},
     "output_type": "execute_result"
    }
   ],
   "source": [
    "min_value = -1\n",
    "max_value = 1\n",
    "\n",
    "number_of_samples = 300\n",
    "\n",
    "U = rnd.uniform(min_value, max_value, size=number_of_samples) # uniform samples in range (min_value, max_value)\n",
    "\n",
    "f\"Mean: {U.mean():.3f} Variance: {U.var():.2f} Std: {U.std():.2f}\"\n"
   ]
  },
  {
   "cell_type": "markdown",
   "metadata": {
    "slideshow": {
     "slide_type": "fragment"
    }
   },
   "source": [
    "* $\\text{Visualize 1-dim samples.}$"
   ]
  },
  {
   "cell_type": "code",
   "execution_count": 41,
   "metadata": {
    "slideshow": {
     "slide_type": "fragment"
    }
   },
   "outputs": [
    {
     "data": {
      "image/png": "[encoded data removed]",
      "text/plain": [
       "<Figure size 1440x288 with 1 Axes>"
      ]
     },
     "metadata": {
      "needs_background": "light"
     },
     "output_type": "display_data"
    }
   ],
   "source": [
    "plt.figure(figsize=(20,4))\n",
    "plt.title('Uniform distribution', fontsize=20)\n",
    "\n",
    "plt.plot(U, np.zeros_like(U), '|', c='g', ms=50, label='sample')\n",
    "\n",
    "plt.axhline(y = 0, color='k')\n",
    "plt.grid(axis='x')\n",
    "\n",
    "plt.legend(fontsize=15)\n",
    "plt.yticks([]);"
   ]
  },
  {
   "cell_type": "markdown",
   "metadata": {
    "slideshow": {
     "slide_type": "slide"
    }
   },
   "source": [
    "## $$\\textbf{ Represent samples using the histogram plot}$$\n",
    "<hr>\n",
    "<br>"
   ]
  },
  {
   "cell_type": "code",
   "execution_count": 46,
   "metadata": {
    "slideshow": {
     "slide_type": "fragment"
    }
   },
   "outputs": [
    {
     "data": {
      "text/plain": [
       "(array([14.,  9., 10., 12., 12., 13., 11., 11.,  3.,  8.,  6., 12., 15.,\n",
       "        15.,  8.,  9., 13., 12.,  8., 13.,  7.,  6.,  9., 14.,  6.,  8.,\n",
       "        11.,  6.,  8., 11.]),\n",
       " array([-0.99984257, -0.93355079, -0.867259  , -0.80096721, -0.73467543,\n",
       "        -0.66838364, -0.60209186, -0.53580007, -0.46950828, -0.4032165 ,\n",
       "        -0.33692471, -0.27063293, -0.20434114, -0.13804935, -0.07175757,\n",
       "        -0.00546578,  0.060826  ,  0.12711779,  0.19340958,  0.25970136,\n",
       "         0.32599315,  0.39228493,  0.45857672,  0.52486851,  0.59116029,\n",
       "         0.65745208,  0.72374386,  0.79003565,  0.85632743,  0.92261922,\n",
       "         0.98891101]))"
      ]
     },
     "execution_count": 46,
     "metadata": {},
     "output_type": "execute_result"
    },
    {
     "data": {
      "image/png": "[encoded data removed]",
      "text/plain": [
       "<Figure size 1296x288 with 1 Axes>"
      ]
     },
     "metadata": {
      "needs_background": "light"
     },
     "output_type": "display_data"
    }
   ],
   "source": [
    "plt.figure(figsize=(18, 4))\n",
    "\n",
    "nums, borders, _ = plt.hist(U, bins=30, rwidth=0.8, alpha=0.6, label='samples', density=False) # num of bins, block width percentage\n",
    "\n",
    "plt.axvline(x=U.mean(), ls='--', c='r') # plot dashed mean line\n",
    "plt.legend(fontsize=15);\n",
    "\n",
    "nums, borders\n"
   ]
  },
  {
   "cell_type": "code",
   "execution_count": 47,
   "metadata": {
    "slideshow": {
     "slide_type": "fragment"
    }
   },
   "outputs": [
    {
     "data": {
      "text/plain": [
       "19.887535777653024"
      ]
     },
     "execution_count": 47,
     "metadata": {},
     "output_type": "execute_result"
    }
   ],
   "source": [
    "def calc_area(nums, borders):\n",
    "    vals = borders[1:] - borders[:-1]\n",
    "    area = np.sum(vals * nums)\n",
    "    return area\n",
    "\n",
    "calc_area(nums, borders) # enable density to get 1"
   ]
  },
  {
   "cell_type": "markdown",
   "metadata": {
    "slideshow": {
     "slide_type": "slide"
    }
   },
   "source": [
    "## $$\\textbf{Univariate-normal (Gaussian) distribution}$$\n",
    "<hr>\n",
    "<br>"
   ]
  },
  {
   "cell_type": "code",
   "execution_count": null,
   "metadata": {
    "slideshow": {
     "slide_type": "fragment"
    }
   },
   "outputs": [],
   "source": [
    "# fix the random seed for debuging\n",
    "np.random.seed(42)  # any value"
   ]
  },
  {
   "cell_type": "code",
   "execution_count": null,
   "metadata": {
    "slideshow": {
     "slide_type": "fragment"
    }
   },
   "outputs": [],
   "source": [
    "mean = 2\n",
    "std = 8\n",
    "X = rnd.normal(loc=mean, scale=std, size=500)\n",
    "\n",
    "f'Mean: {X.mean():.3f} Variance: {X.var():.2f} Std: {X.std():.2f}'"
   ]
  },
  {
   "cell_type": "code",
   "execution_count": null,
   "metadata": {
    "scrolled": true,
    "slideshow": {
     "slide_type": "fragment"
    }
   },
   "outputs": [],
   "source": [
    "plt.figure(figsize=(12,8))\n",
    "\n",
    "nums, borders, _ = plt.hist(X, bins=50, density=True, alpha=0.8, rwidth=0.8, color='g')\n",
    "assert np.isclose(calc_area(nums, borders), 1)\n",
    "\n",
    "from seaborn import kdeplot\n",
    "\n",
    "kdeplot(X,linewidth=2, color='g') #\n",
    "plt.title('Density estimation plot', fontsize=20)\n",
    "plt.axvline(X.mean(), ls='--', c='r');"
   ]
  },
  {
   "cell_type": "markdown",
   "metadata": {
    "slideshow": {
     "slide_type": "slide"
    }
   },
   "source": [
    "## $$\\textbf{Multiple Gaussian distribution}$$\n",
    "<hr>\n",
    "<br>"
   ]
  },
  {
   "cell_type": "code",
   "execution_count": null,
   "metadata": {
    "slideshow": {
     "slide_type": "fragment"
    }
   },
   "outputs": [],
   "source": [
    "means = [-10, 0, 10]\n",
    "stds = [2, 5, 3]\n",
    "assert len(means) == len(stds)\n",
    "n_clusters = len(means)\n",
    "\n",
    "fig = plt.figure(figsize=(12,8))\n",
    "\n",
    "from matplotlib import cm\n",
    "cmap = cm.get_cmap('gist_rainbow')\n",
    "rgba_values = cmap(np.arange(n_clusters) / n_clusters) # red, green, blue, alpha\n",
    "\n",
    "for n in range(n_clusters): # given additionaly a counter back\n",
    "    \n",
    "    data = rnd.normal(means[n], stds[n], size=500)\n",
    "    \n",
    "    color = rgba_values[n]\n",
    "    \n",
    "    plt.hist(data, bins=20, color=color, alpha=0.55, rwidth=0.8, density=True)\n",
    "    kdeplot(data, color=color, alpha=0.7)\n",
    "    \n",
    "plt.title('Gaussian histogram plots', fontsize=25);    "
   ]
  },
  {
   "cell_type": "markdown",
   "metadata": {
    "slideshow": {
     "slide_type": "slide"
    }
   },
   "source": [
    "### $$\\textbf{Gaussian histogram plot with subplots}$$\n",
    "<hr>"
   ]
  },
  {
   "cell_type": "code",
   "execution_count": null,
   "metadata": {
    "slideshow": {
     "slide_type": "fragment"
    }
   },
   "outputs": [],
   "source": [
    "def plot_gaussians(means, stds, size=250, bins=25):\n",
    "    N = len(means)\n",
    "    M = len(stds)\n",
    "    \n",
    "    fig, axis = plt.subplots(nrows=N, ncols=M, sharey=True, figsize=(20, 14))\n",
    "\n",
    "    R,C = axis.shape\n",
    "\n",
    "    for r in range(R):\n",
    "        for c in range(C):\n",
    "            ax = axis[r,c]\n",
    "            \n",
    "            data = rnd.normal(means[r],stds[c], size=size)\n",
    "            \n",
    "            ax.hist(data, bins=bins, rwidth=0.8, density=True, color='g', alpha=0.5, label='data')\n",
    "            ax.axvline(data.mean(), ls='--', c='r', ymax=.8, label='$\\\\mu =$'+f'{data.mean():0.2f}')\n",
    "            \n",
    "            ax.set_xticks(means) # plt.xticks([...])\n",
    "            ax.legend(fontsize=15)\n",
    "            ax.grid(axis='y')\n",
    "            \n",
    "            kdeplot(data, ax=ax, color='k')\n",
    "            \n",
    "    ttl = axis[0,1].set_title('Gaussian histogram plots', fontsize=25)"
   ]
  },
  {
   "cell_type": "code",
   "execution_count": null,
   "metadata": {
    "slideshow": {
     "slide_type": "slide"
    }
   },
   "outputs": [],
   "source": [
    "plot_gaussians(means, stds)"
   ]
  },
  {
   "cell_type": "markdown",
   "metadata": {
    "slideshow": {
     "slide_type": "slide"
    }
   },
   "source": [
    "## $$\\textbf{Probability density function}$$\n",
    "<hr>\n",
    "<br>\n",
    "\n",
    "* $\\text{Gaussian PDF}$\n",
    "\n",
    "$$\\boxed{\\small{\\mathcal{N}(x | \\mu, \\sigma)} = \n",
    "\\frac{1}{\\sigma\\sqrt{2\\pi}}\\exp{\\Big(-\\frac{(x - \\mu)^2}{2\\sigma^2}\\Big)}}$$"
   ]
  },
  {
   "cell_type": "code",
   "execution_count": null,
   "metadata": {
    "slideshow": {
     "slide_type": "fragment"
    }
   },
   "outputs": [],
   "source": [
    "def gauss_pdf(X, mu=0, sigma=1):\n",
    "    #                                           (N,d) - (1,d) = (N,d)\n",
    "    return 1/(sigma*np.sqrt(2*np.pi)) * np.exp(-(X - mu)**2/(2*sigma**2))"
   ]
  },
  {
   "cell_type": "code",
   "execution_count": null,
   "metadata": {
    "slideshow": {
     "slide_type": "fragment"
    }
   },
   "outputs": [],
   "source": [
    "mean = 2\n",
    "std = 4\n",
    "X = np.sort(rnd.normal(loc=mean, scale=std, size=20000))\n",
    "\n",
    "g_pdf = gauss_pdf(X, mean, std)\n",
    "print(g_pdf.shape)"
   ]
  },
  {
   "cell_type": "code",
   "execution_count": null,
   "metadata": {
    "slideshow": {
     "slide_type": "fragment"
    }
   },
   "outputs": [],
   "source": [
    "from scipy.stats import norm\n",
    "\n",
    "n_pdf = norm.pdf(X, loc=mean, scale=std)\n",
    "assert np.allclose(g_pdf, n_pdf)"
   ]
  },
  {
   "cell_type": "markdown",
   "metadata": {
    "slideshow": {
     "slide_type": "slide"
    }
   },
   "source": [
    "## $$\\textbf{Multinomial distribution}$$\n",
    "<hr>\n",
    "\n",
    "* $\\text{Let's draw some random samples from a multinomial distribution. We'll use our fruits from the first lecture.}$\n",
    "<br>\n",
    "<center>\n",
    "    <img src='./images/fruits.png', width='900'>"
   ]
  },
  {
   "cell_type": "code",
   "execution_count": null,
   "metadata": {
    "slideshow": {
     "slide_type": "fragment"
    }
   },
   "outputs": [],
   "source": [
    "fruits = np.array([\n",
    "    'watermelon',\n",
    "    'apple',\n",
    "    'grape',\n",
    "    'grapefruit',\n",
    "    'lemon',\n",
    "    'banana',\n",
    "    'cherry'\n",
    "])"
   ]
  },
  {
   "cell_type": "markdown",
   "metadata": {
    "slideshow": {
     "slide_type": "slide"
    }
   },
   "source": [
    "## $$\\textbf{Sample from multinomial}$$\n",
    "<hr>"
   ]
  },
  {
   "cell_type": "code",
   "execution_count": null,
   "metadata": {
    "scrolled": true,
    "slideshow": {
     "slide_type": "fragment"
    }
   },
   "outputs": [],
   "source": [
    "n = 5 # number of samples\n",
    "\n",
    "p = np.ones(len(fruits))/len(fruits) # represents equal sampling probability\n",
    "\n",
    "print(p)\n",
    "\n",
    "all_fruits = np.tile(fruits, (n,1)) # repeat multiple (5) times to represent all possible picks\n",
    "print(all_fruits)\n",
    "\n",
    "print(50 * '--')\n",
    "\n",
    "mlt = rnd.multinomial(1, p, size=(5)) # draw multinomial samples 5 times with the given probability\n",
    "print(mlt)\n",
    "\n",
    "mlt = mlt.astype(bool)\n",
    "print(mlt)\n",
    "\n",
    "samples = all_fruits[mlt] # select drown samples from all fruits\n"
   ]
  },
  {
   "cell_type": "code",
   "execution_count": null,
   "metadata": {
    "slideshow": {
     "slide_type": "fragment"
    }
   },
   "outputs": [],
   "source": [
    "list(samples)\n"
   ]
  },
  {
   "cell_type": "markdown",
   "metadata": {
    "slideshow": {
     "slide_type": "slide"
    }
   },
   "source": [
    "## $$\\textbf{Adjust selection probabilities}$$\n",
    "<hr>"
   ]
  },
  {
   "cell_type": "code",
   "execution_count": null,
   "metadata": {
    "slideshow": {
     "slide_type": "fragment"
    }
   },
   "outputs": [],
   "source": [
    "p = [0.05, 0.70, 0.05, 0.05, 0.05, 0.05, 0.05] # new probailities to pick a fruit\n",
    "n = 100\n",
    "\n",
    "all_fruits = np.tile(fruits, (n,1))\n",
    "\n",
    "mlt = rnd.multinomial(1, p, size=(n)) # draw multinomial samples 5 times with given probabilities\n",
    "#print(mlt) # mask as 0 or 1 ints\n",
    "\n",
    "samples = all_fruits[mlt.astype(bool)] # show drown samples\n",
    "#print(list(samples))\n",
    "\n",
    "np.mean(mlt.astype(bool), 0)"
   ]
  },
  {
   "cell_type": "markdown",
   "metadata": {
    "slideshow": {
     "slide_type": "slide"
    }
   },
   "source": [
    "## $$\\textbf{ Another way to make discrete choices}$$\n",
    "<hr>\n",
    "\n",
    "<center>\n",
    "    <img src='./images/sampling.png', width='900'>"
   ]
  },
  {
   "cell_type": "code",
   "execution_count": null,
   "metadata": {
    "slideshow": {
     "slide_type": "fragment"
    }
   },
   "outputs": [],
   "source": [
    "p = [0.05, 0.70, 0.05, 0.05, 0.05, 0.05, 0.05]\n",
    "\n",
    "temp = [0] + p[:-1]\n",
    "print(temp)\n",
    "\n",
    "# Cumulate them\n",
    "l = np.cumsum(temp) # lower-bounds\n",
    "h = np.cumsum(p)    # upper-bounds\n",
    "\n",
    "print(l)\n",
    "print(h)\n",
    "\n",
    "# Draw uniformly a number between 0 and 1\n",
    "u = np.random.uniform(0, 1)\n",
    "\n",
    "# Find which basket it belongs to\n",
    "s = (u >= l) * (u < h) # np.logical_and(u > l, u < h) \n",
    "\n",
    "print(s) # sampled basket as a mask\n",
    "# retrieve the label\n",
    "fruits[np.argmax(s)]"
   ]
  },
  {
   "cell_type": "markdown",
   "metadata": {
    "slideshow": {
     "slide_type": "slide"
    }
   },
   "source": [
    "## $$\\textbf{Linear Algebra}$$\n",
    "<hr>\n",
    "<br> "
   ]
  },
  {
   "cell_type": "markdown",
   "metadata": {
    "slideshow": {
     "slide_type": "fragment"
    }
   },
   "source": [
    "\n",
    "#### $\\textbf{Many machine learning techniques are based on linear algebra.}$ \n",
    "\n",
    "<br>\n",
    "\n",
    "* $\\text{Trace operator and matrix norms}$ \n",
    "<br>\n",
    "\n",
    "* $\\text{Solving a system of linear equations}$\n",
    "<br>\n",
    "\n",
    "* $\\text{Singular value decomposiotion}$"
   ]
  },
  {
   "cell_type": "markdown",
   "metadata": {
    "slideshow": {
     "slide_type": "slide"
    }
   },
   "source": [
    "## $$\\textbf{Trace operator}$$\n",
    "<hr>\n",
    "<br> \n",
    "\n",
    "$$\\Large{ \n",
    "tr(X) = \\sum_{i=1}^N X_{ii}, \\quad X \\in \\mathbb{R}^{(N,M)}\n",
    "}$$\n",
    "<hr>\n",
    "\n",
    "* $\\text{Usefull Properties}$:\n",
    "\n",
    "$$\\Large{ \n",
    "a = tr(a),\\quad a \\in \\mathbb{R} \n",
    "}$$\n",
    "\n",
    "$$\\Large{ \n",
    "tr(A) + tr(B) = tr( A + B)\n",
    "}$$\n",
    "\n",
    "$$\\Large{ \n",
    "tr(ABC) = tr(CAB) = tr(BCA) \n",
    "}$$"
   ]
  },
  {
   "cell_type": "code",
   "execution_count": 23,
   "metadata": {
    "slideshow": {
     "slide_type": "fragment"
    }
   },
   "outputs": [],
   "source": [
    "from numpy import random as rnd\n",
    "X = rnd.normal(0, 1, size=(50,50)) #.reshape((50,50))\n",
    "assert np.diag(X).sum() == np.trace(X)"
   ]
  },
  {
   "cell_type": "code",
   "execution_count": 24,
   "metadata": {
    "slideshow": {
     "slide_type": "fragment"
    }
   },
   "outputs": [],
   "source": [
    "a = 10\n",
    "\n",
    "A = rnd.normal(0, 1, (10,20))\n",
    "B = rnd.normal(0, 1, (20,10))\n",
    "C = rnd.normal(0, 1, (10,10))\n",
    "\n",
    "assert a == np.trace([[a]]) # scalar\n",
    "\n",
    "assert np.allclose(np.trace(A) + np.trace(B.T), np.trace(A + B.T)) \n",
    "\n",
    "assert np.allclose(np.trace(A @ B @ C),np.trace(C @ A @ B)) # A.dot(B) \n",
    "assert np.allclose(np.trace(C @ A @ B),np.trace(B @ C @ A))\n"
   ]
  },
  {
   "cell_type": "markdown",
   "metadata": {
    "slideshow": {
     "slide_type": "slide"
    }
   },
   "source": [
    "## $$\\textbf{Matrix norms}$$\n",
    "<hr>\n",
    "<br>  \n",
    "\n",
    "* $\\text{Frobenius norm with trace operator:}$\n",
    "\n",
    "$$\\Large{\n",
    "|| X ||_{Fro} = \\sqrt{tr(XX^{\\top})}\n",
    "}$$"
   ]
  },
  {
   "cell_type": "code",
   "execution_count": 25,
   "metadata": {
    "slideshow": {
     "slide_type": "fragment"
    }
   },
   "outputs": [],
   "source": [
    "l2_Fro = lambda X: np.trace(X @ X.T)**0.5\n"
   ]
  },
  {
   "cell_type": "code",
   "execution_count": 26,
   "metadata": {
    "slideshow": {
     "slide_type": "fragment"
    }
   },
   "outputs": [],
   "source": [
    "import numpy.linalg as la\n",
    "\n",
    "X = rnd.normal(0,1, size=(10,20))\n",
    "\n",
    "assert np.allclose(l2_Fro(X), la.norm(X, ord='fro')) # ord = {'inf', 'nuc', p-norm }"
   ]
  },
  {
   "cell_type": "markdown",
   "metadata": {
    "slideshow": {
     "slide_type": "slide"
    }
   },
   "source": [
    "## $$\\textbf{Sum of row vectors with Trace}$$\n",
    "<hr>\n",
    "\n",
    "$$\\Large{X \\in \\mathbb{R}^{(N,D)} }$$\n",
    "\n",
    "$$\\Large{\n",
    "y = \\sum_{n=1}^N x_{n} x_n^{\\top} = {\\sum_{n=1}^N tr(x_n^{\\top}x_n)} = tr{(X^{\\top} X)}\n",
    "}$$"
   ]
  },
  {
   "cell_type": "code",
   "execution_count": 27,
   "metadata": {
    "slideshow": {
     "slide_type": "fragment"
    }
   },
   "outputs": [
    {
     "name": "stdout",
     "output_type": "stream",
     "text": [
      "175.81793069715866 175.81793069715866\n"
     ]
    },
    {
     "data": {
      "text/plain": [
       "True"
      ]
     },
     "execution_count": 27,
     "metadata": {},
     "output_type": "execute_result"
    }
   ],
   "source": [
    "X = rnd.normal(0,1, size=(10,20))\n",
    "\n",
    "y = np.sum( [x @ x.T for x in X] )\n",
    "\n",
    "print(y, np.trace(X.T @ X))\n",
    "\n",
    "np.allclose(y, np.trace(X.T @ X), atol=1e-9)\n"
   ]
  },
  {
   "cell_type": "markdown",
   "metadata": {
    "slideshow": {
     "slide_type": "slide"
    }
   },
   "source": [
    "## $$\\textbf{Solving a system of linear equations}$$\n",
    "<hr>\n",
    "\n",
    "$\\text{Like}$\n",
    "$$\\Large{\n",
    "3x_0 + x1 = 9, \\quad x_0 + 2x_1 = 8\n",
    "}$$\n",
    "\n",
    "$\\text{or}$\n",
    "\n",
    "$$\\Large{ \n",
    "A X = B, \\quad A = [[3,1],[1,2]] \\quad B = [9,8]}$$"
   ]
  },
  {
   "cell_type": "code",
   "execution_count": 28,
   "metadata": {
    "slideshow": {
     "slide_type": "fragment"
    }
   },
   "outputs": [
    {
     "name": "stdout",
     "output_type": "stream",
     "text": [
      "[9, 8] [9. 8.]\n"
     ]
    }
   ],
   "source": [
    "A = [\n",
    "        [3, 1],\n",
    "        [1, 2]\n",
    "    ]\n",
    "\n",
    "B = [9, 8]\n",
    "\n",
    "X = la.solve(A, B)\n",
    "\n",
    "print(B, A @ X)\n",
    "\n",
    "assert np.allclose(A @ X, B)\n"
   ]
  },
  {
   "cell_type": "markdown",
   "metadata": {
    "slideshow": {
     "slide_type": "slide"
    }
   },
   "source": [
    "## $$\\textbf{Linear regression}$$\n",
    "<hr>\n",
    "\n",
    "$$\\Large{ \n",
    "y = \\beta_1 * \\hat{X} + \\beta_2 + \\mathcal{E}\n",
    "}$$"
   ]
  },
  {
   "cell_type": "markdown",
   "metadata": {
    "slideshow": {
     "slide_type": "fragment"
    }
   },
   "source": [
    "$$\\textbf{Matrix form}$$\n",
    "<hr>\n",
    "$$\\Large{\n",
    "y = [ \\beta_1, \\beta_2 ] \\times [ \\hat{X} , \\mathbb{1}_{N}]^{\\top} + \\mathcal{E}\n",
    "}$$\n",
    "<hr>\n",
    "$$\\Large{\n",
    "y = \\beta \\times {X}^{\\top} + \\mathcal{E}, \\quad \\text{where} \\quad \\beta = [\\beta_1,\\beta_2] \\in \\mathbb{R}^{(1,2)}, \\quad \\text{and} \\quad X = [ \\hat{X} , \\mathbb{1}_{N}] \\in \\mathbb{R}^{(N,2)}\n",
    "}$$\n",
    "<br>\n",
    "\n",
    "$\\textbf{Task}:\\> \\text{Find the best linear fit of a labeled dataset.}$"
   ]
  },
  {
   "cell_type": "markdown",
   "metadata": {
    "slideshow": {
     "slide_type": "slide"
    }
   },
   "source": [
    "## $$\\textbf{Toy data generation}$$\n",
    "<hr>\n"
   ]
  },
  {
   "cell_type": "code",
   "execution_count": 90,
   "metadata": {
    "slideshow": {
     "slide_type": "fragment"
    }
   },
   "outputs": [
    {
     "name": "stdout",
     "output_type": "stream",
     "text": [
      "(200, 2) (200,)\n"
     ]
    },
    {
     "data": {
      "image/png": "[encoded data removed]",
      "text/plain": [
       "<Figure size 1152x432 with 1 Axes>"
      ]
     },
     "metadata": {
      "needs_background": "light"
     },
     "output_type": "display_data"
    }
   ],
   "source": [
    "# Create a dataset\n",
    "rnd.seed(42)\n",
    "N = 200 # number of data points\n",
    "\n",
    "X = np.random.normal(-1, 3, size=N)\n",
    "\n",
    "# Targets (outputs) depend on X in some way\n",
    "f = lambda x: 0.5 * x + 0.05 * x ** 2 + 0.5\n",
    "\n",
    "y = f(X)\n",
    "\n",
    "X = np.c_[(X, np.ones_like(X))] # column-wise concatenation np/c_[((250, 1) ,(250,1))] np.hstack\n",
    "\n",
    "print(X.shape, y.shape)\n",
    "\n",
    "X_range = np.linspace(-10, 10, 500)\n",
    "\n",
    "plt.figure(figsize = (16,6))\n",
    "plt.scatter(X[:, 0], y, label='data without noise')\n",
    "plt.plot(X_range, f(X_range), 'k--', alpha=0.9, label='$f(x)$')\n",
    "\n",
    "plt.xlabel('X', fontsize=15)\n",
    "plt.ylabel('y', fontsize=15, rotation=0);\n",
    "plt.legend(fontsize=22)\n",
    "plt.margins(0.3)\n"
   ]
  },
  {
   "cell_type": "markdown",
   "metadata": {
    "slideshow": {
     "slide_type": "slide"
    }
   },
   "source": [
    "* $\\textbf{Add some random noise}\\> \\mathcal{E}_n \\sim \\mathcal{N}(0, \\sigma^2)$"
   ]
  },
  {
   "cell_type": "code",
   "execution_count": 89,
   "metadata": {
    "slideshow": {
     "slide_type": "fragment"
    }
   },
   "outputs": [
    {
     "name": "stdout",
     "output_type": "stream",
     "text": [
      "(200,)\n",
      "(200,)\n"
     ]
    },
    {
     "data": {
      "image/png": "[encoded data removed]",
      "text/plain": [
       "<Figure size 1440x576 with 1 Axes>"
      ]
     },
     "metadata": {
      "needs_background": "light"
     },
     "output_type": "display_data"
    }
   ],
   "source": [
    "sigma2 = 0.5\n",
    "\n",
    "Eps = np.random.normal(loc=0, scale=sigma2, size=len(y)) # random noise\n",
    "print(Eps.shape)\n",
    "\n",
    "y += Eps # add noise to the targets\n",
    "print(y.shape)\n",
    "\n",
    "plt.figure(figsize = (20,8))\n",
    "plt.scatter(X[:, 0], y, label='data with noise')\n",
    "plt.plot(X_range, f(X_range), 'k--', alpha=0.9, label='$f(x)$')\n",
    "\n",
    "plt.legend(fontsize=22)\n",
    "plt.xlabel('X')\n",
    "plt.ylabel('y')\n",
    "plt.margins(0.3)\n",
    "\n"
   ]
  },
  {
   "cell_type": "markdown",
   "metadata": {
    "slideshow": {
     "slide_type": "slide"
    }
   },
   "source": [
    "### $$\\text{Split dataset randomly into } \\textbf{train} \\text{ and } \\textbf{test } \\text{datasets}$$\n",
    "<hr>"
   ]
  },
  {
   "cell_type": "code",
   "execution_count": 80,
   "metadata": {
    "slideshow": {
     "slide_type": "fragment"
    }
   },
   "outputs": [],
   "source": [
    "# Use a function from sklearn package\n",
    "\n",
    "from sklearn.model_selection import train_test_split\n",
    "\n",
    "tr_ratio = 0.2 # percentage \n",
    "\n",
    "X_tr, X_te, y_tr, y_te = train_test_split(X, y, \n",
    "                                          test_size=1-tr_ratio, \n",
    "                                          random_state=42)\n"
   ]
  },
  {
   "cell_type": "markdown",
   "metadata": {
    "slideshow": {
     "slide_type": "slide"
    }
   },
   "source": [
    "## $$\\textbf{Linear regeression analytic solution}$$\n",
    "<hr>"
   ]
  },
  {
   "cell_type": "markdown",
   "metadata": {
    "slideshow": {
     "slide_type": "fragment"
    }
   },
   "source": [
    "* $\\text{The solution of the linear regression model is given by:}$\n",
    "<hr>\n",
    "\n",
    "$$\\Large{\\boxed{\\beta = (X_\\text{tr}^\\top X_\\text{tr})^{-1} X_\\text{tr}^\\top y_\\text{tr}}}$$\n",
    "\n",
    "* $\\text{And the prediction for new \"test\" points by:}$\n",
    "<hr>\n",
    "\n",
    "$$\\Large{\\hat y_\\text{te} = X_\\text{te} \\beta}$$"
   ]
  },
  {
   "cell_type": "code",
   "execution_count": 81,
   "metadata": {
    "slideshow": {
     "slide_type": "fragment"
    }
   },
   "outputs": [
    {
     "data": {
      "text/plain": [
       "array([0.37844216, 0.9788175 ])"
      ]
     },
     "execution_count": 81,
     "metadata": {},
     "output_type": "execute_result"
    }
   ],
   "source": [
    "beta = la.inv(X_tr.T @ X_tr) @ X_tr.T @ y_tr\n",
    "\n",
    "y_te_predict = X_te @ beta\n",
    "\n",
    "beta\n"
   ]
  },
  {
   "cell_type": "code",
   "execution_count": 88,
   "metadata": {
    "slideshow": {
     "slide_type": "slide"
    }
   },
   "outputs": [
    {
     "data": {
      "image/png": "[encoded data removed]",
      "text/plain": [
       "<Figure size 1152x576 with 1 Axes>"
      ]
     },
     "metadata": {
      "needs_background": "light"
     },
     "output_type": "display_data"
    }
   ],
   "source": [
    "# Plot the data and the prediction\n",
    "plt.figure(figsize = (16,8))\n",
    "plt.scatter(X_tr[:, 0], y_tr, alpha=.6, label='train data')\n",
    "plt.scatter(X_te[:, 0], y_te, color='g', alpha=.5, label='test data')\n",
    "plt.xlabel('X')\n",
    "plt.ylabel('y')\n",
    "\n",
    "plt.plot(X_te[:, 0], y_te_predict, '-', color='r', label='predicted values')\n",
    "plt.plot(X_range, f(X_range), 'k--', alpha=0.9, label='$f(x)$')\n",
    "plt.xlabel('X')\n",
    "plt.ylabel('y')\n",
    "plt.legend(fontsize=20)\n",
    "plt.margins(0.3)\n"
   ]
  },
  {
   "cell_type": "code",
   "execution_count": 91,
   "metadata": {
    "slideshow": {
     "slide_type": "fragment"
    }
   },
   "outputs": [
    {
     "data": {
      "text/plain": [
       "'RMSE: 0.79 where y_tr std: 1.670'"
      ]
     },
     "execution_count": 91,
     "metadata": {},
     "output_type": "execute_result"
    }
   ],
   "source": [
    "rmse = np.square(y_te_predict - y_te).mean()**0.5\n",
    "\n",
    "f\"RMSE: {rmse:0.2f} where y_tr std: {np.std(y_tr):0.3f}\"\n"
   ]
  },
  {
   "cell_type": "markdown",
   "metadata": {
    "slideshow": {
     "slide_type": "slide"
    }
   },
   "source": [
    "## $$\\textbf{Principal component analysis (PCA)}$$\n",
    "<hr>\n"
   ]
  },
  {
   "cell_type": "markdown",
   "metadata": {
    "slideshow": {
     "slide_type": "fragment"
    }
   },
   "source": [
    "\n",
    "$\\text{PCA is a technique widely used for applications such as}$\n",
    "\n",
    " * $\\text{dimensionality reduction}$\n",
    " * $\\text{lossy data compression}$\n",
    " * $\\text{feature extraction}$\n",
    " * $\\text{data visualization}$"
   ]
  },
  {
   "cell_type": "markdown",
   "metadata": {
    "slideshow": {
     "slide_type": "fragment"
    }
   },
   "source": [
    "$\\text{There are two commonly used definitions of PCA:}$\n",
    "\n",
    " * $\\text{Orthogonal projection onto lower dimensional linear space\n",
    "    such that the variance of projected data is maximized.}$\n",
    "    \n",
    " * $\\text{Linear projection that minimizes the average projection}$\n",
    "    $\\text{cost, defined as the mean squared distance between the\n",
    "    data and their projections.}$"
   ]
  },
  {
   "cell_type": "markdown",
   "metadata": {
    "slideshow": {
     "slide_type": "slide"
    }
   },
   "source": [
    "## $$\\textbf{Singular value decomposition (SVD)}$$\n",
    "<hr>\n",
    "\n",
    "\n",
    "$\\text{The Singular-Value Decomposition, or SVD for short,}$\n",
    "\n",
    "$\\text{is a matrix decomposition method for reducing a matrix to its constituent parts}$\n",
    "\n",
    "$\\text{in order to make e.g. certain subsequent matrix calculations like matrix inversion simpler.}$\n",
    "\n",
    "<br><br>\n",
    "\n",
    "<center>\n",
    "    <img src=\"./images/SVD.png\" width='600'/>"
   ]
  },
  {
   "cell_type": "markdown",
   "metadata": {
    "slideshow": {
     "slide_type": "slide"
    }
   },
   "source": [
    "## $$\\textbf{Create a random dataset with correlated feature dependency}$$\n",
    "<hr>"
   ]
  },
  {
   "cell_type": "code",
   "execution_count": 93,
   "metadata": {
    "slideshow": {
     "slide_type": "fragment"
    }
   },
   "outputs": [
    {
     "data": {
      "image/png": "[encoded data removed]",
      "text/plain": [
       "<Figure size 864x864 with 1 Axes>"
      ]
     },
     "metadata": {
      "needs_background": "light"
     },
     "output_type": "display_data"
    }
   ],
   "source": [
    "rnd.seed(42)\n",
    "N = 250\n",
    "M = np.random.normal(0, 5, (N, 2))\n",
    "\n",
    "# create some correlation between dimensions\n",
    "M[:, 1] -= 1.5 * M[:, 0]\n",
    "\n",
    "# Plot the centered dataset\n",
    "plt.figure(figsize=(12, 12))\n",
    "plt.scatter(*M.T)\n",
    "\n",
    "plt.axis([-30, 30, -30, 30]);\n"
   ]
  },
  {
   "cell_type": "markdown",
   "metadata": {
    "slideshow": {
     "slide_type": "slide"
    }
   },
   "source": [
    "## $$\\textbf{Find the principal components via SVD}$$\n",
    "<hr>\n"
   ]
  },
  {
   "cell_type": "code",
   "execution_count": 95,
   "metadata": {
    "slideshow": {
     "slide_type": "fragment"
    }
   },
   "outputs": [
    {
     "name": "stdout",
     "output_type": "stream",
     "text": [
      "[155.77368067  38.53191893]\n",
      "U shape:  (250, 2)\n",
      "Sigma shape: (2,)\n",
      "V shape: (2, 2)\n"
     ]
    }
   ],
   "source": [
    "# PCA only applies to centered data, so we center the data\n",
    "M -= M.mean(axis=0)\n",
    "\n",
    "U, Sigma, V = la.svd(M, full_matrices = False)\n",
    "\n",
    "print(Sigma)\n",
    "print(\"U shape: \", U.shape)\n",
    "print(\"Sigma shape:\", Sigma.shape)\n",
    "print(\"V shape:\", V.shape)\n",
    "\n",
    "X = U @ np.diag(Sigma) @ V.T # SVD reconstruction\n",
    "\n",
    "assert np.allclose(np.sum(M - X) , 0)\n"
   ]
  },
  {
   "cell_type": "markdown",
   "metadata": {
    "slideshow": {
     "slide_type": "slide"
    }
   },
   "source": [
    "## $$\\textbf{Project any point to the axis representing highest data variance}$$\n",
    "<hr>\n"
   ]
  },
  {
   "cell_type": "code",
   "execution_count": 100,
   "metadata": {
    "slideshow": {
     "slide_type": "fragment"
    }
   },
   "outputs": [],
   "source": [
    "HAT_1 = np.outer(V[0], V[0]) # 1st component\n",
    "HAT_2 = np.outer(V[1], V[1]) # 2d component\n",
    "\n",
    "M_test = rnd.uniform(-20, 20, size=(500, 2)) # random test data to project\n",
    "\n",
    "# Project some test data onto the fisrt principal compenent\n",
    "M_test_PCA_1 = M_test @ HAT_1\n",
    "\n",
    "# Project some test data onto the second principal compenent\n",
    "M_test_PCA_2 = M_test @ HAT_2\n"
   ]
  },
  {
   "cell_type": "code",
   "execution_count": 101,
   "metadata": {
    "slideshow": {
     "slide_type": "fragment"
    }
   },
   "outputs": [
    {
     "data": {
      "image/png": "[encoded data removed]",
      "text/plain": [
       "<Figure size 576x576 with 1 Axes>"
      ]
     },
     "metadata": {
      "needs_background": "light"
     },
     "output_type": "display_data"
    }
   ],
   "source": [
    "# Plot the original data and the projected test data\n",
    "plt.figure(figsize=(8, 8))\n",
    "\n",
    "plt.scatter(*M.T)  # equivalent to M.T[0], M.T[1]\n",
    "\n",
    "plt.plot(*M_test.T, '.', color='g', label='test data')\n",
    "plt.plot(*M_test_PCA_1.T, 'o-', color='r', ms=2, label='1st comp')\n",
    "plt.plot(*M_test_PCA_2.T, 'o-', color='k', ms=2, label='2d comp')\n",
    "\n",
    "plt.legend(fontsize=15)\n",
    "plt.axis([-30, 30, -30, 30])\n"
   ]
  },
  {
   "cell_type": "markdown",
   "metadata": {
    "slideshow": {
     "slide_type": "slide"
    }
   },
   "source": [
    "## $$\\textbf{Sklearn PCA}$$\n",
    "<hr>"
   ]
  },
  {
   "cell_type": "code",
   "execution_count": null,
   "metadata": {},
   "outputs": [],
   "source": [
    "from sklearn.decomposition import PCA\n",
    "\n",
    "pca = PCA(n_components=2)\n",
    "\n",
    "pca.fit(M) # N, 100\n",
    "print(Mtest.shape)\n",
    "\n",
    "M_pr = pca.transform(Mtest)\n",
    "M_pr.shape"
   ]
  },
  {
   "cell_type": "markdown",
   "metadata": {
    "slideshow": {
     "slide_type": "slide"
    }
   },
   "source": [
    "## $$\\textbf{Thank you for your attention.}$$"
   ]
  }
 ],
 "metadata": {
  "celltoolbar": "Slideshow",
  "kernelspec": {
   "display_name": "Python 3",
   "language": "python",
   "name": "python3"
  },
  "language_info": {
   "codemirror_mode": {
    "name": "ipython",
    "version": 3
   },
   "file_extension": ".py",
   "mimetype": "text/x-python",
   "name": "python",
   "nbconvert_exporter": "python",
   "pygments_lexer": "ipython3",
   "version": "3.9.4"
  }
 },
 "nbformat": 4,
 "nbformat_minor": 2
}

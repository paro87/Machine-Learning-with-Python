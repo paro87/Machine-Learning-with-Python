{
 "cells": [
  {
   "cell_type": "code",
   "execution_count": 1,
   "metadata": {
    "slideshow": {
     "slide_type": "skip"
    }
   },
   "outputs": [
    {
     "data": {
      "text/html": [
       "\n",
       "<style>\n",
       ".output_png {\n",
       "    display: table-cell;\n",
       "    text-align: center;\n",
       "    vertical-align: middle;\n",
       "}\n",
       "</style>\n"
      ],
      "text/plain": [
       "<IPython.core.display.HTML object>"
      ]
     },
     "execution_count": 1,
     "metadata": {},
     "output_type": "execute_result"
    }
   ],
   "source": [
    "from IPython.core.display import HTML\n",
    "HTML(\"\"\"\n",
    "<style>\n",
    ".output_png {\n",
    "    display: table-cell;\n",
    "    text-align: center;\n",
    "    vertical-align: middle;\n",
    "}\n",
    "</style>\n",
    "\"\"\")"
   ]
  },
  {
   "cell_type": "markdown",
   "metadata": {
    "slideshow": {
     "slide_type": "slide"
    }
   },
   "source": [
    "# $$\\textbf{Python Programming for Machine Learning} $$ \n",
    "\n",
    "#### $$\\text{SoSe 2020/2021}$$\n",
    "\n",
    "## $$\\text{Lecture 4: Simulation of Markov chains, optimization,} $$\n",
    "## $$\\text{compilation with Numba and Cython}$$\n",
    "\n",
    "#### $$\\text{Sergej Dogadov} \\quad \\text{Philine Thalia Görzig} \\quad \\text{Panagiotis Tomer Karagiannis}$$\n",
    "\n",
    "<center>\n",
    "<img src='images/pyt.png' width=450>"
   ]
  },
  {
   "cell_type": "markdown",
   "metadata": {
    "slideshow": {
     "slide_type": "slide"
    }
   },
   "source": [
    "## $$\\textbf{Markov chains}$$\n",
    "<hr>\n",
    "\n",
    "* $\\text{Markov chain transits between a set of states, where the transition between pairs of states}$\n",
    "\n",
    "$\\quad\\quad\\quad\\text{is associated with a fixed probability.}$\n",
    "\n",
    "* $\\text{The set of probabilities can be stored in a transition matrix.}$\n",
    "\n",
    "<center>\n",
    "    <img src='./images/markov.png', width='1000'>"
   ]
  },
  {
   "cell_type": "code",
   "execution_count": 7,
   "metadata": {
    "slideshow": {
     "slide_type": "fragment"
    }
   },
   "outputs": [],
   "source": [
    "import numpy as np\n",
    "# Transition matrix\n",
    "T = np.array([\n",
    "                [0.9, 0.1, 0.0], # transition from state 1 to state 1,2,3\n",
    "                [0.0, 0.9, 0.1], # transition from state 2 to state 1,2,3\n",
    "                [1.0, 0.0, 0.0], # transition from state 3 to state 1,2,3\n",
    "            ])"
   ]
  },
  {
   "cell_type": "markdown",
   "metadata": {
    "slideshow": {
     "slide_type": "slide"
    }
   },
   "source": [
    "## $$\\textbf{ Transition matrix and initial states}$$\n",
    "<hr> "
   ]
  },
  {
   "cell_type": "code",
   "execution_count": 12,
   "metadata": {
    "slideshow": {
     "slide_type": "fragment"
    }
   },
   "outputs": [
    {
     "name": "stdout",
     "output_type": "stream",
     "text": [
      "[[0.  0.9 0.1 0. ]\n",
      " [0.  0.  0.9 0.1]\n",
      " [0.  1.  0.  0. ]]\n"
     ]
    }
   ],
   "source": [
    "# Add empty state to transition matrix\n",
    "\n",
    "pad_shape = ((0, 0), (1, 0))  # ((before_1, after_1), (before_2, after_2))\n",
    "\n",
    "P = np.pad(T, pad_shape, mode='constant', constant_values=0) \n",
    "print(P)\n",
    "\n",
    "#np.pad(T, pad_shape, mode='mean') # diff modes available like: mean, empty, func, etc"
   ]
  },
  {
   "cell_type": "code",
   "execution_count": 13,
   "metadata": {
    "slideshow": {
     "slide_type": "fragment"
    }
   },
   "outputs": [
    {
     "data": {
      "text/plain": [
       "array([[1, 0, 0],\n",
       "       [1, 0, 0],\n",
       "       [1, 0, 0],\n",
       "       [1, 0, 0]])"
      ]
     },
     "execution_count": 13,
     "metadata": {},
     "output_type": "execute_result"
    }
   ],
   "source": [
    "# Init tokens to start at the node 0\n",
    "num_tokens = 4\n",
    "starting_constellation = [1, 0, 0]\n",
    "\n",
    "# explicit repetition\n",
    "#X = np.tile(starting_constellation, reps=(num_tokens,1)) \n",
    "\n",
    "# implicit by broadcasting:\n",
    "\n",
    "X = np.outer(num_tokens*[1], starting_constellation) # (4,) x (3,) -> (4,3)\n",
    "X"
   ]
  },
  {
   "cell_type": "markdown",
   "metadata": {
    "slideshow": {
     "slide_type": "slide"
    }
   },
   "source": [
    "## $$\\textbf{ Markov chain step }$$\n",
    "<hr> "
   ]
  },
  {
   "cell_type": "code",
   "execution_count": 14,
   "metadata": {
    "slideshow": {
     "slide_type": "fragment"
    }
   },
   "outputs": [],
   "source": [
    "def mc_step(X, P, verbose=False):\n",
    "        \n",
    "    Xp = np.dot(X, P) # one mc step \n",
    "    Xc = np.cumsum(Xp, axis=1)\n",
    "    \n",
    "    log = f'Xp:\\n{Xp}\\n\\nXc:\\n{Xc}\\n\\n'\n",
    "    \n",
    "    L, H = Xc[:, :-1], Xc[:, 1:] # lower and upper bounds\n",
    "    \n",
    "    log += f'L:\\n{L}\\n\\nH:\\n{H}\\n'\n",
    "    \n",
    "    R = np.random.uniform(0, 1, (Xp.shape[0], 1)) # random state for each token\n",
    "    \n",
    "    log += f'\\nR\\n{R}\\n'\n",
    "    \n",
    "    states = (R >= L) * (R < H) #equiv: np.logical_and((R > L), (R < H))\n",
    "    \n",
    "    log += f'\\nNew states:\\n{states.astype(np.int)}'\n",
    "    \n",
    "    if verbose:\n",
    "        print(log)\n",
    "        \n",
    "    return states.astype('int32')"
   ]
  },
  {
   "cell_type": "markdown",
   "metadata": {
    "slideshow": {
     "slide_type": "slide"
    }
   },
   "source": [
    "## $$\\textbf{ Markov chain step }$$\n",
    "<hr>"
   ]
  },
  {
   "cell_type": "code",
   "execution_count": 15,
   "metadata": {
    "slideshow": {
     "slide_type": "fragment"
    }
   },
   "outputs": [
    {
     "name": "stdout",
     "output_type": "stream",
     "text": [
      "Xp:\n",
      "[[0.  0.9 0.1 0. ]\n",
      " [0.  0.9 0.1 0. ]\n",
      " [0.  0.9 0.1 0. ]\n",
      " [0.  0.9 0.1 0. ]]\n",
      "\n",
      "Xc:\n",
      "[[0.  0.9 1.  1. ]\n",
      " [0.  0.9 1.  1. ]\n",
      " [0.  0.9 1.  1. ]\n",
      " [0.  0.9 1.  1. ]]\n",
      "\n",
      "L:\n",
      "[[0.  0.9 1. ]\n",
      " [0.  0.9 1. ]\n",
      " [0.  0.9 1. ]\n",
      " [0.  0.9 1. ]]\n",
      "\n",
      "H:\n",
      "[[0.9 1.  1. ]\n",
      " [0.9 1.  1. ]\n",
      " [0.9 1.  1. ]\n",
      " [0.9 1.  1. ]]\n",
      "\n",
      "R\n",
      "[[0.24710871]\n",
      " [0.13232145]\n",
      " [0.40851308]\n",
      " [0.11382722]]\n",
      "\n",
      "New states:\n",
      "[[1 0 0]\n",
      " [1 0 0]\n",
      " [1 0 0]\n",
      " [1 0 0]]\n"
     ]
    }
   ],
   "source": [
    "mc_step(X, P, \n",
    "        verbose=True);"
   ]
  },
  {
   "cell_type": "markdown",
   "metadata": {
    "slideshow": {
     "slide_type": "slide"
    }
   },
   "source": [
    "## $$\\textbf{ Simulate Markov process}$$\n",
    "<hr> "
   ]
  },
  {
   "cell_type": "code",
   "execution_count": 16,
   "metadata": {
    "slideshow": {
     "slide_type": "fragment"
    }
   },
   "outputs": [],
   "source": [
    "from tqdm import tqdm\n",
    "\n",
    "def simulate(X, P, num_steps=5000, verbose=False):\n",
    "\n",
    "    for i in tqdm(range(num_steps)):\n",
    "        \n",
    "        X = mc_step(X, P, verbose)\n",
    "        \n",
    "        if verbose:\n",
    "            print(str(X)+'\\n')\n",
    "\n",
    "    return X.mean(axis=0) # represents a prob of token to be in one of the Markov chain states"
   ]
  },
  {
   "cell_type": "code",
   "execution_count": 17,
   "metadata": {
    "slideshow": {
     "slide_type": "fragment"
    }
   },
   "outputs": [
    {
     "name": "stderr",
     "output_type": "stream",
     "text": [
      "100%|██████████| 5000/5000 [00:03<00:00, 1253.20it/s]\n"
     ]
    },
    {
     "data": {
      "text/plain": [
       "array([0.5, 0.5, 0. ])"
      ]
     },
     "execution_count": 17,
     "metadata": {},
     "output_type": "execute_result"
    }
   ],
   "source": [
    "simulate(X, P)"
   ]
  },
  {
   "cell_type": "markdown",
   "metadata": {
    "slideshow": {
     "slide_type": "slide"
    }
   },
   "source": [
    "# $$\\textbf{ Optimization}$$\n",
    "<hr>\n",
    "<br>\n",
    "<br>\n",
    "\n",
    "<center>\n",
    "    <img src='./images/optim.png' width='700'>"
   ]
  },
  {
   "cell_type": "markdown",
   "metadata": {
    "slideshow": {
     "slide_type": "slide"
    }
   },
   "source": [
    "# $$\\textbf{ Automatic differentiation with JAX}$$\n",
    "<hr> \n",
    "\n",
    "<center>\n",
    "    <img src='./images/JAX.png' width='400'>"
   ]
  },
  {
   "cell_type": "code",
   "execution_count": 20,
   "metadata": {
    "slideshow": {
     "slide_type": "fragment"
    }
   },
   "outputs": [],
   "source": [
    "#conda install -c conda-forge jax\n",
    "\n",
    "import jax.numpy as np \n",
    "from jax import grad\n"
   ]
  },
  {
   "cell_type": "markdown",
   "metadata": {
    "slideshow": {
     "slide_type": "slide"
    }
   },
   "source": [
    "## $$\\textbf{ Taking univariate function derivatives}$$\n",
    "<hr> \n",
    "\n",
    "\n",
    "$$y = 3 x^2 + 2, \\quad y^{'}_{x} = 6x, \\quad y^{''}_{x} = 6$$"
   ]
  },
  {
   "cell_type": "code",
   "execution_count": 117,
   "metadata": {
    "slideshow": {
     "slide_type": "fragment"
    }
   },
   "outputs": [
    {
     "name": "stdout",
     "output_type": "stream",
     "text": [
      "60.0\n",
      "6.0\n"
     ]
    }
   ],
   "source": [
    "# define a function to numerically comp a gradient for\n",
    "import jax.numpy as np\n",
    "\n",
    "def y(x):\n",
    "    return 3 * np.square(x) + 2 # note that you are using jax numpy\n",
    "\n",
    "# grad comp at the point\n",
    "x0 = 10.   # has to be float no diff possible on integers\n",
    "\n",
    "# first derivative\n",
    "print(grad(y)(x0)) # evaluated at point x\n",
    "\n",
    "# second\n",
    "print(grad(grad(y))(100*x0))\n"
   ]
  },
  {
   "cell_type": "markdown",
   "metadata": {
    "slideshow": {
     "slide_type": "slide"
    }
   },
   "source": [
    "## $$\\textbf{ Multivariate function derivatives}$$\n",
    "<hr> \n",
    "<br>\n",
    "<center>\n",
    "$y = 3 x_1^3 + 2^{x_2}, \\quad \\frac{\\partial y}{\\partial x_1} = 9 x_1^2  \\quad  \\frac{ \\partial y}{\\partial x_2} = 2^{x_2} \\ln{2}$"
   ]
  },
  {
   "cell_type": "code",
   "execution_count": 118,
   "metadata": {
    "slideshow": {
     "slide_type": "fragment"
    }
   },
   "outputs": [],
   "source": [
    "x1 = 2. # has to be a float number\n",
    "x2 = 3. # has to be a float number\n",
    "\n",
    "y = lambda x1, x2 : 3 * np.power(x1, 3) + np.power(2, x2) # note you are using jax numpy\n"
   ]
  },
  {
   "cell_type": "code",
   "execution_count": 119,
   "metadata": {
    "slideshow": {
     "slide_type": "fragment"
    }
   },
   "outputs": [
    {
     "name": "stdout",
     "output_type": "stream",
     "text": [
      "36.0 == 36.0\n"
     ]
    }
   ],
   "source": [
    "# wrt x_1 (first func arg)\n",
    "val = grad(y, 0)(x1,x2) # 9 * 2**2 = 36\n",
    "\n",
    "test_val = 9*x1**2\n",
    "print(f'{val} == {test_val}')\n",
    "\n",
    "assert np.isclose(val,test_val)"
   ]
  },
  {
   "cell_type": "code",
   "execution_count": 120,
   "metadata": {
    "slideshow": {
     "slide_type": "fragment"
    }
   },
   "outputs": [
    {
     "name": "stdout",
     "output_type": "stream",
     "text": [
      "5.545177459716797 == 5.545177459716797\n"
     ]
    }
   ],
   "source": [
    "# wrt x_2\n",
    "val = grad(y, 1)(x1, x2) # 2**(3)*ln(2)\n",
    "\n",
    "test_val = 2**x2 * np.log(2)\n",
    "print(f'{val} == {test_val}')\n",
    "\n",
    "assert np.isclose(val, test_val, atol=1e-3) # 0.001 10**-3"
   ]
  },
  {
   "cell_type": "markdown",
   "metadata": {
    "slideshow": {
     "slide_type": "fragment"
    }
   },
   "source": [
    "* $\\text{For more info about}\\>$ <a href='https://jax.readthedocs.io/en/latest/notebooks/quickstart.html'>JAX</a>\n",
    "\n"
   ]
  },
  {
   "cell_type": "markdown",
   "metadata": {
    "slideshow": {
     "slide_type": "slide"
    }
   },
   "source": [
    "## $$\\textbf{ Gradient descent for finding minimum of a function}$$\n",
    "<hr> \n",
    "<br>\n",
    "$$y = kx^2 + const, \\quad k=3$$"
   ]
  },
  {
   "cell_type": "code",
   "execution_count": 121,
   "metadata": {
    "slideshow": {
     "slide_type": "fragment"
    }
   },
   "outputs": [],
   "source": [
    "# a function to find a minimum numerically\n",
    "import jax.numpy as np \n",
    "\n",
    "f = lambda x, coeff=3, offset=0: coeff * np.power(x, 2) + offset # jax numpy !\n",
    "\n",
    "def minimize_(fn, x0, step_size, max_it): \n",
    "\n",
    "    vals = np.array([x0]).astype(np.float32) # list of the checked points\n",
    "\n",
    "    for _ in range(max_it):\n",
    "        \n",
    "        grad_f = grad(fn)\n",
    "        \n",
    "        curr_val = vals[-1]\n",
    "        if abs(grad_f(curr_val)) > 1e-2: # the derivative approx not zero\n",
    "            \n",
    "            next_val = curr_val - step_size*grad_f(curr_val)\n",
    "            vals = np.append(vals, next_val)\n",
    "            \n",
    "        else:\n",
    "            return vals\n",
    "            \n",
    "    return vals"
   ]
  },
  {
   "cell_type": "code",
   "execution_count": 122,
   "metadata": {
    "slideshow": {
     "slide_type": "fragment"
    }
   },
   "outputs": [
    {
     "data": {
      "text/plain": [
       "DeviceArray([-5.       , -4.7      , -4.4179997, -4.15292  , -3.9037447],            dtype=float32)"
      ]
     },
     "execution_count": 122,
     "metadata": {},
     "output_type": "execute_result"
    }
   ],
   "source": [
    "vals = minimize_(f, x0=-5., step_size=0.01, max_it=10)\n",
    "vals[:5]"
   ]
  },
  {
   "cell_type": "code",
   "execution_count": 123,
   "metadata": {
    "scrolled": true,
    "slideshow": {
     "slide_type": "slide"
    }
   },
   "outputs": [],
   "source": [
    "import matplotlib.pyplot as plt\n",
    "%matplotlib inline\n",
    "\n",
    "def plot_minimize(x, f, max_it=10, step_size=0.01):\n",
    "    \n",
    "    plt.figure(figsize=(10, 8))    \n",
    "    \n",
    "    plt.plot(x, f(x), label='$f(x)$')\n",
    "    \n",
    "    vals = minimize_(f, x0=x[0], step_size=step_size, max_it=max_it)\n",
    "    \n",
    "    plt.plot(vals, f(vals), \"o--\", c=\"r\", label='opt step')\n",
    "    \n",
    "    plt.legend(loc='best', fontsize=20)\n",
    "    plt.grid()\n",
    "    "
   ]
  },
  {
   "cell_type": "code",
   "execution_count": 124,
   "metadata": {
    "scrolled": true,
    "slideshow": {
     "slide_type": "fragment"
    }
   },
   "outputs": [
    {
     "data": {
      "image/png": "[encoded data removed]",
      "text/plain": [
       "<Figure size 720x576 with 1 Axes>"
      ]
     },
     "metadata": {
      "needs_background": "light"
     },
     "output_type": "display_data"
    }
   ],
   "source": [
    "x = np.arange(-5, 5.01, 0.25) # function range\n",
    "plot_minimize(x, f, max_it=10, step_size=1e-2)"
   ]
  },
  {
   "cell_type": "markdown",
   "metadata": {
    "slideshow": {
     "slide_type": "slide"
    }
   },
   "source": [
    "## $$\\textbf{SciPy minimize function}$$\n",
    "<hr> "
   ]
  },
  {
   "cell_type": "code",
   "execution_count": 125,
   "metadata": {
    "slideshow": {
     "slide_type": "fragment"
    }
   },
   "outputs": [
    {
     "data": {
      "image/png": "[encoded data removed]",
      "text/plain": [
       "<Figure size 432x288 with 1 Axes>"
      ]
     },
     "metadata": {
      "needs_background": "light"
     },
     "output_type": "display_data"
    }
   ],
   "source": [
    "# Non continous function\n",
    "f = lambda x, coeff=3, power=2: coeff * np.divide(coeff, x) + x ** power\n",
    "plt.plot(x, f(x))\n",
    "plt.show()"
   ]
  },
  {
   "cell_type": "code",
   "execution_count": 126,
   "metadata": {
    "slideshow": {
     "slide_type": "fragment"
    }
   },
   "outputs": [
    {
     "data": {
      "text/plain": [
       "      fun: array([8.17704267])\n",
       " hess_inv: <1x1 LbfgsInvHessProduct with dtype=float64>\n",
       "      jac: array([1.77635685e-07])\n",
       "  message: b'CONVERGENCE: NORM_OF_PROJECTED_GRADIENT_<=_PGTOL'\n",
       "     nfev: 24\n",
       "      nit: 9\n",
       "     njev: 12\n",
       "   status: 0\n",
       "  success: True\n",
       "        x: array([1.65096367])"
      ]
     },
     "execution_count": 126,
     "metadata": {},
     "output_type": "execute_result"
    }
   ],
   "source": [
    "from scipy.optimize import minimize\n",
    "import numpy as np\n",
    "\n",
    "# constrained optimization\n",
    "min_x, max_x = (0.01, np.inf)\n",
    "\n",
    "res = minimize(f, 5, args=(3, 2), method='L-BFGS-B', bounds=((min_x, max_x),) ) \n",
    "# result dict object\n",
    "res"
   ]
  },
  {
   "cell_type": "code",
   "execution_count": 127,
   "metadata": {
    "slideshow": {
     "slide_type": "slide"
    }
   },
   "outputs": [
    {
     "name": "stderr",
     "output_type": "stream",
     "text": [
      "<ipython-input-125-34617a66742e>:2: RuntimeWarning: divide by zero encountered in true_divide\n",
      "  f = lambda x, coeff=3, power=2: coeff * np.divide(coeff, x) + x ** power\n"
     ]
    },
    {
     "data": {
      "image/png": "[encoded data removed]",
      "text/plain": [
       "<Figure size 720x576 with 1 Axes>"
      ]
     },
     "metadata": {
      "needs_background": "light"
     },
     "output_type": "display_data"
    }
   ],
   "source": [
    "plt.figure(figsize=(10, 8))\n",
    "plt.plot(x, f(x))\n",
    "plt.axvline(res['x'], linestyle='--', c='r')\n",
    "plt.show()"
   ]
  },
  {
   "cell_type": "markdown",
   "metadata": {
    "slideshow": {
     "slide_type": "slide"
    }
   },
   "source": [
    "# $$\\textbf{Numerical integration with SciPy}$$\n",
    "<hr> "
   ]
  },
  {
   "cell_type": "code",
   "execution_count": 130,
   "metadata": {
    "scrolled": false,
    "slideshow": {
     "slide_type": "fragment"
    }
   },
   "outputs": [],
   "source": [
    "f = lambda x, mu, sigma : np.exp(-0.5*(x-mu)**2/sigma**2)\n",
    "\n",
    "mu = 1; sigma = 2;\n",
    "args = (mu, sigma)\n",
    "\n",
    "x = np.arange(-10, 12, 0.1)\n",
    "\n",
    "def plot_(x, f, args, I=1):\n",
    "    plt.figure(figsize=(8, 6))\n",
    "    plt.plot(x, f(x, *args)/I)\n",
    "    plt.show()"
   ]
  },
  {
   "cell_type": "code",
   "execution_count": 131,
   "metadata": {},
   "outputs": [
    {
     "data": {
      "image/png": "[encoded data removed]",
      "text/plain": [
       "<Figure size 576x432 with 1 Axes>"
      ]
     },
     "metadata": {
      "needs_background": "light"
     },
     "output_type": "display_data"
    }
   ],
   "source": [
    "plot_(x, f, args)"
   ]
  },
  {
   "cell_type": "markdown",
   "metadata": {
    "slideshow": {
     "slide_type": "slide"
    }
   },
   "source": [
    "$$\\Large{\n",
    "I = \\int_a^b f(x)\\ dx\n",
    "}$$"
   ]
  },
  {
   "cell_type": "code",
   "execution_count": 101,
   "metadata": {
    "slideshow": {
     "slide_type": "fragment"
    }
   },
   "outputs": [
    {
     "name": "stdout",
     "output_type": "stream",
     "text": [
      "An estimate of the absolute error in the result: 1.658173531815521e-08\n"
     ]
    },
    {
     "data": {
      "text/plain": [
       "5.013256358862905"
      ]
     },
     "execution_count": 101,
     "metadata": {},
     "output_type": "execute_result"
    }
   ],
   "source": [
    "from scipy.integrate import quad as integral\n",
    "\n",
    "a = -10; b = 12;\n",
    "I, err = integral(f, a, b, args)\n",
    "\n",
    "print(f'An estimate of the absolute error in the result: {err}')\n",
    "I"
   ]
  },
  {
   "cell_type": "code",
   "execution_count": 63,
   "metadata": {
    "slideshow": {
     "slide_type": "fragment"
    }
   },
   "outputs": [
    {
     "data": {
      "image/png": "[encoded data removed]",
      "text/plain": [
       "<Figure size 576x432 with 1 Axes>"
      ]
     },
     "metadata": {
      "needs_background": "light"
     },
     "output_type": "display_data"
    }
   ],
   "source": [
    "plot_(x, f, args, I)\n"
   ]
  },
  {
   "cell_type": "markdown",
   "metadata": {
    "slideshow": {
     "slide_type": "slide"
    }
   },
   "source": [
    "# $$\\textbf{Python code compilation}$$\n",
    "<hr>\n",
    "\n",
    "<br><br>\n",
    "<center>\n",
    "    <img src='./images/comp.png' width='300'>"
   ]
  },
  {
   "cell_type": "markdown",
   "metadata": {
    "slideshow": {
     "slide_type": "slide"
    }
   },
   "source": [
    "## $$\\textbf{Making pure Python faster}$$\n",
    "<hr> "
   ]
  },
  {
   "cell_type": "code",
   "execution_count": 79,
   "metadata": {
    "slideshow": {
     "slide_type": "fragment"
    }
   },
   "outputs": [],
   "source": [
    "import math\n",
    "\n",
    "def is_prime(num):\n",
    "    \n",
    "    if num == 2:\n",
    "        return True\n",
    "    \n",
    "    if num <= 1 or num % 2 == 0:\n",
    "        return False\n",
    "    \n",
    "    for div in range(3, int(math.sqrt(num)) + 1, 2): # for 173 -> [3, 5, 7, 9, 11, 13] \n",
    "        #print(div)\n",
    "        if num % div == 0:\n",
    "            return False\n",
    "        \n",
    "    return True\n",
    "    "
   ]
  },
  {
   "cell_type": "code",
   "execution_count": 81,
   "metadata": {},
   "outputs": [
    {
     "data": {
      "text/plain": [
       "True"
      ]
     },
     "execution_count": 81,
     "metadata": {},
     "output_type": "execute_result"
    }
   ],
   "source": [
    "is_prime(173)"
   ]
  },
  {
   "cell_type": "code",
   "execution_count": 82,
   "metadata": {
    "slideshow": {
     "slide_type": "fragment"
    }
   },
   "outputs": [],
   "source": [
    "def check_numbers(max_num, verbose=True):\n",
    "    \n",
    "    for num in range(0, max_num):\n",
    "        res = is_prime(num)\n",
    "        if verbose:\n",
    "            print(f'{num} -> {res}')\n",
    "            "
   ]
  },
  {
   "cell_type": "code",
   "execution_count": 83,
   "metadata": {
    "slideshow": {
     "slide_type": "slide"
    }
   },
   "outputs": [
    {
     "name": "stdout",
     "output_type": "stream",
     "text": [
      "0 -> False\n",
      "1 -> False\n",
      "2 -> True\n",
      "3 -> True\n",
      "4 -> False\n",
      "5 -> True\n",
      "6 -> False\n",
      "7 -> True\n",
      "8 -> False\n",
      "9 -> False\n",
      "10 -> False\n",
      "11 -> True\n",
      "12 -> False\n",
      "13 -> True\n",
      "14 -> False\n",
      "15 -> False\n",
      "16 -> False\n",
      "17 -> True\n",
      "18 -> False\n",
      "19 -> True\n",
      "20 -> False\n",
      "21 -> False\n",
      "22 -> False\n",
      "23 -> True\n",
      "24 -> False\n"
     ]
    }
   ],
   "source": [
    "check_numbers(25)"
   ]
  },
  {
   "cell_type": "markdown",
   "metadata": {
    "slideshow": {
     "slide_type": "slide"
    }
   },
   "source": [
    "## $$\\textbf{Benchmark function}$$"
   ]
  },
  {
   "cell_type": "code",
   "execution_count": 84,
   "metadata": {
    "slideshow": {
     "slide_type": "slide"
    }
   },
   "outputs": [],
   "source": [
    "from time import time\n",
    "\n",
    "def benchmark(fn, args=()):\n",
    "    st = time()\n",
    "    fn(*args)\n",
    "    return f'Elapsed time: {(time() - st):0.6f}'"
   ]
  },
  {
   "cell_type": "code",
   "execution_count": 85,
   "metadata": {
    "slideshow": {
     "slide_type": "fragment"
    }
   },
   "outputs": [
    {
     "data": {
      "text/plain": [
       "'Elapsed time: 1.789652'"
      ]
     },
     "execution_count": 85,
     "metadata": {},
     "output_type": "execute_result"
    }
   ],
   "source": [
    "benchmark(check_numbers, args=(1000000, False))"
   ]
  },
  {
   "cell_type": "markdown",
   "metadata": {
    "slideshow": {
     "slide_type": "slide"
    }
   },
   "source": [
    "## $$\\textbf{A high performance Python compiler}$$\n",
    "<hr>\n",
    "<br><br>\n",
    "\n",
    "<center>\n",
    "    <img src='./images/numba.png' width='400'>"
   ]
  },
  {
   "cell_type": "markdown",
   "metadata": {
    "slideshow": {
     "slide_type": "slide"
    }
   },
   "source": [
    "* $\\text{Add an automatic compiler}$"
   ]
  },
  {
   "cell_type": "code",
   "execution_count": 86,
   "metadata": {
    "slideshow": {
     "slide_type": "fragment"
    }
   },
   "outputs": [],
   "source": [
    "# conda -c conda-forge numba\n",
    "\n",
    "from numba import njit, prange\n",
    "\n",
    "@njit(fastmath=True)\n",
    "def is_prime(num):\n",
    "    \n",
    "    if num == 2:\n",
    "        return True\n",
    "    \n",
    "    if num <= 1 or num % 2 == 0:\n",
    "        return False\n",
    "    \n",
    "    for div in range(3, int(math.sqrt(num)) + 1, 2):\n",
    "        if num % div == 0:\n",
    "            return False\n",
    "        \n",
    "    return True"
   ]
  },
  {
   "cell_type": "code",
   "execution_count": 87,
   "metadata": {
    "slideshow": {
     "slide_type": "fragment"
    }
   },
   "outputs": [],
   "source": [
    "@njit(fastmath=True)\n",
    "def check_numbers(max_num):\n",
    "    for num in range(max_num):\n",
    "        res = is_prime(num)"
   ]
  },
  {
   "cell_type": "code",
   "execution_count": 89,
   "metadata": {
    "slideshow": {
     "slide_type": "fragment"
    }
   },
   "outputs": [
    {
     "data": {
      "text/plain": [
       "'Elapsed time: 0.123240'"
      ]
     },
     "execution_count": 89,
     "metadata": {},
     "output_type": "execute_result"
    }
   ],
   "source": [
    "benchmark(check_numbers, args=(1000000, ))\n"
   ]
  },
  {
   "cell_type": "markdown",
   "metadata": {
    "slideshow": {
     "slide_type": "slide"
    }
   },
   "source": [
    "## $$\\textbf{ Cython}$$\n",
    "<hr> \n",
    "\n",
    "* $\\text{Cython is a static compiler for Python programming language}$\n",
    "<br><br>\n",
    "\n",
    "<center>\n",
    "    <img src='./images/cython.png' width='400'>"
   ]
  },
  {
   "cell_type": "code",
   "execution_count": 91,
   "metadata": {
    "slideshow": {
     "slide_type": "fragment"
    }
   },
   "outputs": [
    {
     "name": "stdout",
     "output_type": "stream",
     "text": [
      "The cython extension is already loaded. To reload it, use:\n",
      "  %reload_ext cython\n"
     ]
    }
   ],
   "source": [
    "# conda install -c anaconda cython\n",
    "\n",
    "import cython\n",
    "\n",
    "%load_ext cython\n"
   ]
  },
  {
   "cell_type": "code",
   "execution_count": 92,
   "metadata": {
    "scrolled": false,
    "slideshow": {
     "slide_type": "slide"
    }
   },
   "outputs": [],
   "source": [
    "%%cython\n",
    "\n",
    "#cython: boundscheck=False, wraparound=False, cdivision=True, nonecheck=False\n",
    "\n",
    "import numpy as np\n",
    "cimport numpy as np\n",
    "cimport cython\n",
    "\n",
    "cdef float[:,:] fill_(int n, float fill_value):\n",
    "    \n",
    "    cdef:\n",
    "        int i\n",
    "        float[:,:] outs = np.empty((n,n), dtype = np.float32)\n",
    "    \n",
    "    for i in range(n):\n",
    "        for j in range(n):   \n",
    "            outs[i,j] = fill_value\n",
    "\n",
    "    return outs\n",
    "\n",
    "\n",
    "cpdef np.ndarray cdot(float[:,:] X, float[:,:] Y): \n",
    "    \n",
    "    n = len(X)\n",
    "    cdef:\n",
    "        int i,j\n",
    "        float[:,:] Z = fill_(n, 0.)    \n",
    "    \n",
    "\n",
    "    for i in range(n):\n",
    "        for j in range(n):\n",
    "            for k in range(n):\n",
    "                Z[i,j] += X[i, k] * Y[k, j]\n",
    "    \n",
    "    return np.array(Z)\n"
   ]
  },
  {
   "cell_type": "markdown",
   "metadata": {
    "slideshow": {
     "slide_type": "slide"
    }
   },
   "source": [
    "## $$\\textbf{ Measure the performance }$$\n",
    "<hr> "
   ]
  },
  {
   "cell_type": "code",
   "execution_count": 93,
   "metadata": {
    "slideshow": {
     "slide_type": "fragment"
    }
   },
   "outputs": [
    {
     "data": {
      "text/plain": [
       "'Elapsed time: 0.157497'"
      ]
     },
     "execution_count": 93,
     "metadata": {},
     "output_type": "execute_result"
    }
   ],
   "source": [
    "n = 500\n",
    "X = np.random.normal(0,1, size=(n,n)).astype(np.float32)\n",
    "X.shape, X.dtype\n",
    "\n",
    "benchmark(cdot, args=(X,X))\n"
   ]
  },
  {
   "cell_type": "code",
   "execution_count": 94,
   "metadata": {
    "slideshow": {
     "slide_type": "fragment"
    }
   },
   "outputs": [
    {
     "name": "stdout",
     "output_type": "stream",
     "text": [
      "147 ms ± 4.59 ms per loop (mean ± std. dev. of 3 runs, 5 loops each)\n"
     ]
    }
   ],
   "source": [
    "%timeit -n 5 -r 3 cdot(X,X)"
   ]
  },
  {
   "cell_type": "code",
   "execution_count": 96,
   "metadata": {
    "slideshow": {
     "slide_type": "fragment"
    }
   },
   "outputs": [],
   "source": [
    "f = lambda X: X @ X "
   ]
  },
  {
   "cell_type": "code",
   "execution_count": 97,
   "metadata": {
    "slideshow": {
     "slide_type": "fragment"
    }
   },
   "outputs": [
    {
     "name": "stdout",
     "output_type": "stream",
     "text": [
      "1.3 ms ± 421 µs per loop (mean ± std. dev. of 3 runs, 5 loops each)\n"
     ]
    }
   ],
   "source": [
    "%timeit -n 5 -r 3 f(X)"
   ]
  },
  {
   "cell_type": "markdown",
   "metadata": {
    "slideshow": {
     "slide_type": "slide"
    }
   },
   "source": [
    "## $$\\textbf{ Thank you for your attention }$$"
   ]
  }
 ],
 "metadata": {
  "celltoolbar": "Slideshow",
  "kernelspec": {
   "display_name": "Python 3",
   "language": "python",
   "name": "python3"
  },
  "language_info": {
   "codemirror_mode": {
    "name": "ipython",
    "version": 3
   },
   "file_extension": ".py",
   "mimetype": "text/x-python",
   "name": "python",
   "nbconvert_exporter": "python",
   "pygments_lexer": "ipython3",
   "version": "3.8.3"
  }
 },
 "nbformat": 4,
 "nbformat_minor": 2
}
